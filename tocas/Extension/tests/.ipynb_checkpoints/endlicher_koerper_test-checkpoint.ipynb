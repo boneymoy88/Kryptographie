{
 "cells": [
  {
   "cell_type": "code",
   "execution_count": 10,
   "metadata": {},
   "outputs": [
    {
     "name": "stdout",
     "output_type": "stream",
     "text": [
      "False\n",
      "False\n",
      "False\n",
      "True\n",
      "True\n",
      "False\n",
      "True\n"
     ]
    }
   ],
   "source": [
    "import project_path\n",
    "\n",
    "from Tocas import Z, Polynomring, PolynomringElement, GanzzahlRestklassenring\n",
    "\n",
    "import Extension.ganzzahl_extension\n",
    "import Extension.polynomring_extension\n",
    "import Extension.ganzzahlrestklassenring_extension\n",
    "from Extension.Bruchzahlring import Q\n",
    "from Extension.PolynomRestklassenring import PolynomRestklassenring\n",
    "from Extension.endlicher_koerper import EndlicherKoerper\n",
    "\n",
    "KX = Polynomring(Z)\n",
    "R = GanzzahlRestklassenring(3)\n",
    "F = GanzzahlRestklassenring(7)\n",
    "\n",
    "f = PolynomringElement([1, 0, 1], KX)\n",
    "RX_f = PolynomRestklassenring(f)\n",
    "\n",
    "FX = Polynomring(F)\n",
    "g = PolynomringElement([1, 0, 1], FX)\n",
    "FX_g = PolynomRestklassenring(g)\n",
    "\n",
    "print(Z.ist_endlicher_koerper())\n",
    "print(KX.ist_endlicher_koerper())\n",
    "print(Q.ist_endlicher_koerper())\n",
    "print(R.ist_endlicher_koerper())\n",
    "print(F.ist_endlicher_koerper())\n",
    "print(RX_f.ist_endlicher_koerper())\n",
    "print(FX_g.ist_endlicher_koerper())"
   ]
  },
  {
   "cell_type": "code",
   "execution_count": 1,
   "metadata": {},
   "outputs": [
    {
     "ename": "NameError",
     "evalue": "name 'EndlicherKoerper' is not defined",
     "output_type": "error",
     "traceback": [
      "\u001b[0;31m---------------------------------------------------------------------------\u001b[0m",
      "\u001b[0;31mNameError\u001b[0m                                 Traceback (most recent call last)",
      "\u001b[0;32m<ipython-input-1-4a5cd9276d7c>\u001b[0m in \u001b[0;36m<module>\u001b[0;34m\u001b[0m\n\u001b[0;32m----> 1\u001b[0;31m \u001b[0mprint\u001b[0m\u001b[0;34m(\u001b[0m\u001b[0mEndlicherKoerper\u001b[0m\u001b[0;34m(\u001b[0m\u001b[0;36m3\u001b[0m\u001b[0;34m,\u001b[0m \u001b[0;36m4\u001b[0m\u001b[0;34m)\u001b[0m\u001b[0;34m)\u001b[0m\u001b[0;34m\u001b[0m\u001b[0;34m\u001b[0m\u001b[0m\n\u001b[0m\u001b[1;32m      2\u001b[0m \u001b[0mprint\u001b[0m\u001b[0;34m(\u001b[0m\u001b[0mEndlicherKoerper\u001b[0m\u001b[0;34m(\u001b[0m\u001b[0;36m81\u001b[0m\u001b[0;34m)\u001b[0m\u001b[0;34m)\u001b[0m\u001b[0;34m\u001b[0m\u001b[0;34m\u001b[0m\u001b[0m\n\u001b[1;32m      3\u001b[0m \u001b[0mprint\u001b[0m\u001b[0;34m(\u001b[0m\u001b[0mEndlicherKoerper\u001b[0m\u001b[0;34m(\u001b[0m\u001b[0mF\u001b[0m\u001b[0;34m,\u001b[0m\u001b[0;36m2\u001b[0m\u001b[0;34m)\u001b[0m\u001b[0;34m)\u001b[0m\u001b[0;34m\u001b[0m\u001b[0;34m\u001b[0m\u001b[0m\n",
      "\u001b[0;31mNameError\u001b[0m: name 'EndlicherKoerper' is not defined"
     ]
    }
   ],
   "source": [
    "print(EndlicherKoerper(3, 4))\n",
    "print(EndlicherKoerper(81))\n",
    "print(EndlicherKoerper(F,2))"
   ]
  }
 ],
 "metadata": {
  "kernelspec": {
   "display_name": "Python 3",
   "language": "python",
   "name": "python3"
  },
  "language_info": {
   "codemirror_mode": {
    "name": "ipython",
    "version": 3
   },
   "file_extension": ".py",
   "mimetype": "text/x-python",
   "name": "python",
   "nbconvert_exporter": "python",
   "pygments_lexer": "ipython3",
   "version": "3.7.3"
  }
 },
 "nbformat": 4,
 "nbformat_minor": 2
}

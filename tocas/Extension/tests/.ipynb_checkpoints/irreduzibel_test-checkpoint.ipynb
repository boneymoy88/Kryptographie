{
 "cells": [
  {
   "cell_type": "code",
   "execution_count": 5,
   "metadata": {},
   "outputs": [
    {
     "name": "stdout",
     "output_type": "stream",
     "text": [
      "False\n",
      "True\n",
      "True\n"
     ]
    }
   ],
   "source": [
    "import project_path\n",
    "\n",
    "from Tocas import GanzzahlRestklassenring, Polynomring, PolynomringElement\n",
    "\n",
    "import Extension.polynomring_extension \n",
    "import Extension.ganzzahlrestklassenring_extension\n",
    "\n",
    "Z_2 = GanzzahlRestklassenring(2) \n",
    "K_X = Polynomring(Z_2)\n",
    "\n",
    "print(PolynomringElement([1], K_X).irreduzibel()) #False \n",
    "print(PolynomringElement([1, 1], K_X).irreduzibel()) #True \n",
    "print(PolynomringElement([0, 1], K_X).irreduzibel()) #True \n",
    "#print(PolynomringElement([1, 0, 1, 1], K_X).irreduzibel()) #True\n"
   ]
  }
 ],
 "metadata": {
  "kernelspec": {
   "display_name": "Python 3",
   "language": "python",
   "name": "python3"
  },
  "language_info": {
   "codemirror_mode": {
    "name": "ipython",
    "version": 3
   },
   "file_extension": ".py",
   "mimetype": "text/x-python",
   "name": "python",
   "nbconvert_exporter": "python",
   "pygments_lexer": "ipython3",
   "version": "3.7.3"
  }
 },
 "nbformat": 4,
 "nbformat_minor": 2
}

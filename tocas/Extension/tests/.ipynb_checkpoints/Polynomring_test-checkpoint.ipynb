{
 "cells": [
  {
   "cell_type": "code",
   "execution_count": 5,
   "metadata": {},
   "outputs": [],
   "source": [
    "import project_path\n",
    "from Tocas import Polynomring, PolynomringElement\n",
    "\n",
    "import Extension.polynomring_extension\n",
    "from Extension.Bruchzahlring import Q\n",
    "\n"
   ]
  },
  {
   "cell_type": "code",
   "execution_count": 11,
   "metadata": {},
   "outputs": [
    {
     "name": "stdout",
     "output_type": "stream",
     "text": [
      "(2/1) + (1/1)*x^2  in Q[x]\n",
      "(1/1)*x  in Q[x]\n",
      "((1/1)  in Q[x], (1/2)  in Q[x], (-1/2)*x  in Q[x])\n"
     ]
    }
   ],
   "source": [
    "R_X = Polynomring(Q)\n",
    "a = PolynomringElement([2, 0, 1], R_X)\n",
    "b = PolynomringElement([0, 1], R_X)\n",
    "print(a)\n",
    "print(b)\n",
    "print(Polynomring.ExtGGT(a, b))\n"
   ]
  }
 ],
 "metadata": {
  "kernelspec": {
   "display_name": "Python 3",
   "language": "python",
   "name": "python3"
  },
  "language_info": {
   "codemirror_mode": {
    "name": "ipython",
    "version": 3
   },
   "file_extension": ".py",
   "mimetype": "text/x-python",
   "name": "python",
   "nbconvert_exporter": "python",
   "pygments_lexer": "ipython3",
   "version": "3.7.3"
  }
 },
 "nbformat": 4,
 "nbformat_minor": 2
}

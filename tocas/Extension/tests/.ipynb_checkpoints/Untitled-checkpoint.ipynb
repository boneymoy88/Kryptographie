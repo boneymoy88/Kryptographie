{
 "cells": [
  {
   "cell_type": "code",
   "execution_count": 1,
   "metadata": {},
   "outputs": [],
   "source": [
    "# -*- coding=utf-8 -*-\n",
    "import project_path\n",
    "from Tocas import Polynomring, PolynomringElement, Z, GanzzahlRestklassenring, GanzzahlRestklassenringElement\n",
    "from Extension.Projekt import Berlekamp_Massey as LFSR\n",
    "from Extension import endlicher_koerper\n",
    "from Extension.PolynomRestklassenring import PolynomRestklassenring, PolynomRestklassenringElement\n",
    "from Extension.endlicher_koerper import endlicher_koerper\n",
    "def print_poly(polynomial):\n",
    "        result = ''\n",
    "        lis = sorted(polynomial, reverse=True)\n",
    "        for i in lis:\n",
    "            if i == 0:\n",
    "                result += '1'\n",
    "            else:\n",
    "                result += 'x^%s' % str(i)\n",
    "\n",
    "            if i != lis[-1]:\n",
    "                result += ' + '\n",
    "\n",
    "        return result\n",
    "R_X = Polynomring(Z)\n"
   ]
  },
  {
   "cell_type": "code",
   "execution_count": 2,
   "metadata": {
    "scrolled": true
   },
   "outputs": [
    {
     "name": "stdout",
     "output_type": "stream",
     "text": [
      "1\n",
      "1*x + 1*x^3  in Z[x]\n",
      "x^3 + 1\n",
      "1 + 1*x^3  in Z[x]\n",
      "x^4 + x^3 + 1\n",
      "1 + 1*x^3 + 1*x^4  in Z[x]\n",
      "x^5 + x^4 + x^3 + 1\n",
      "1 + 1*x^3 + 1*x^4 + 1*x^5  in Z[x]\n",
      "x^5 + x^4 + x^3 + 1\n"
     ]
    }
   ],
   "source": [
    "s = 0,0,1,0,0,0,0,0,1,1,0\n",
    "#print(LFSR.Berlekamp_Massey_algorithm(s))\n",
    "C = PolynomringElement([0,1,0,1],R_X)\n",
    "D = PolynomringElement([1,0,0,1],R_X)\n",
    "\n",
    "print(print_poly(set([0])))\n",
    "print(C)\n",
    "print(print_poly(set([3,0])))\n",
    "print(D)\n",
    "print(print_poly(set([3,0])^set([4])))\n",
    "print(D + R_X.variable**4)\n",
    "print(print_poly(set([3,0])^set([4])^set([5])))\n",
    "print(D + R_X.variable**4 + R_X.variable**5)\n",
    "print(print_poly(set([3,0]) ^ {4} ^ {5}))"
   ]
  },
  {
   "cell_type": "code",
   "execution_count": 3,
   "metadata": {},
   "outputs": [
    {
     "data": {
      "text/plain": [
       "1"
      ]
     },
     "execution_count": 3,
     "metadata": {},
     "output_type": "execute_result"
    }
   ],
   "source": [
    "len(set([4]))"
   ]
  },
  {
   "cell_type": "code",
   "execution_count": 4,
   "metadata": {
    "scrolled": false
   },
   "outputs": [],
   "source": [
    "s = 0,0,1,2,0,0,5,1,1,0\n",
    "#print(LFSR.Berlekamp_Massey_algorithm_old(s)) \n",
    "#print(LFSR.Berlekamp_Massey_algorithm_binary(s))"
   ]
  },
  {
   "cell_type": "code",
   "execution_count": 5,
   "metadata": {},
   "outputs": [
    {
     "name": "stdout",
     "output_type": "stream",
     "text": [
      "[1, 0, 0, 1]\n"
     ]
    }
   ],
   "source": [
    "k = 2\n",
    "var = [0] * (k + 2)\n",
    "var[k+1] = 1\n",
    "var[0] = 1\n",
    "print(var)"
   ]
  },
  {
   "cell_type": "code",
   "execution_count": 6,
   "metadata": {},
   "outputs": [
    {
     "data": {
      "text/plain": [
       "4-er Tupel von Elementen aus dem Ring Z: \n",
       "\n",
       "(1,0,0,1)"
      ]
     },
     "execution_count": 6,
     "metadata": {},
     "output_type": "execute_result"
    }
   ],
   "source": [
    "D.koeffizienten"
   ]
  },
  {
   "cell_type": "code",
   "execution_count": 7,
   "metadata": {},
   "outputs": [
    {
     "name": "stdout",
     "output_type": "stream",
     "text": [
      "4\n",
      "1\n",
      "0\n",
      "0\n",
      "1\n",
      "4\n"
     ]
    }
   ],
   "source": [
    "d = 0\n",
    "print(D.koeffizienten.laenge)\n",
    "for i in range(0, D.koeffizienten.laenge):\n",
    "    print(D.koeffizienten[i])\n",
    "    d += 1\n",
    "print(d)"
   ]
  },
  {
   "cell_type": "code",
   "execution_count": 8,
   "metadata": {},
   "outputs": [
    {
     "data": {
      "text/plain": [
       "[0, 1, 0, 1]"
      ]
     },
     "execution_count": 8,
     "metadata": {},
     "output_type": "execute_result"
    }
   ],
   "source": [
    "[C.koeffizienten[i] for i in range(0, C.koeffizienten.laenge)]"
   ]
  },
  {
   "cell_type": "code",
   "execution_count": 9,
   "metadata": {},
   "outputs": [
    {
     "name": "stdout",
     "output_type": "stream",
     "text": [
      "True\n"
     ]
    }
   ],
   "source": [
    "F = GanzzahlRestklassenring(7)\n",
    "FX = Polynomring(F)\n",
    "g = PolynomringElement([1,0,1], FX)\n",
    "FX_g = PolynomRestklassenring(g)\n",
    "sequenz = [4,4,4,4,4,4,4,4,4,4,4,4]\n",
    "sequenz = [0,1,0,1,1,1,0]\n",
    "print(F.ist_endlicher_koerper())\n",
    "#LFSR.berlekamp_massey(sequenz,FX_g)\n",
    "#LFSR.Berlekamp_Massey_algorithm_binary(sequenz)"
   ]
  },
  {
   "cell_type": "code",
   "execution_count": 10,
   "metadata": {},
   "outputs": [
    {
     "name": "stdout",
     "output_type": "stream",
     "text": [
      "[1] in Z/7Z[x]/([1] + [1]*x^2)\n",
      "[1]*x in Z/7Z[x]/([1] + [1]*x^2)\n"
     ]
    },
    {
     "data": {
      "text/plain": [
       "[1]*x in Z/7Z[x]/([1] + [1]*x^2)"
      ]
     },
     "execution_count": 10,
     "metadata": {},
     "output_type": "execute_result"
    }
   ],
   "source": [
    "C = PolynomRestklassenringElement([1],FX_g)\n",
    "B = PolynomRestklassenringElement([1],FX_g)\n",
    "a = FX_g.modulus.ring.variable\n",
    "print(C * B)\n",
    "print(B * FX_g.erzeuger)\n",
    "FX_g.erzeuger"
   ]
  },
  {
   "cell_type": "code",
   "execution_count": 11,
   "metadata": {},
   "outputs": [
    {
     "data": {
      "text/plain": [
       "[None,\n",
       " (0.046861886978149414, 5),\n",
       " (0.0312650203704834, 5),\n",
       " (0.03124713897705078, 5),\n",
       " (0.04687166213989258, 5),\n",
       " (0.031247854232788086, 5),\n",
       " (0.03124713897705078, 5),\n",
       " (0.031247854232788086, 5),\n",
       " (0.04687190055847168, 5),\n",
       " (0.03124833106994629, 5),\n",
       " (0.031247854232788086, 5),\n",
       " (0.04687094688415527, 19),\n",
       " (0.06249547004699707, 19),\n",
       " (0.06249547004699707, 19),\n",
       " (0.04687166213989258, 19),\n",
       " (0.06249594688415527, 19),\n",
       " (0.04687142372131348, 19),\n",
       " (0.046871185302734375, 19),\n",
       " (0.04687237739562988, 19),\n",
       " (0.04687142372131348, 19),\n",
       " (0.04687190055847168, 19),\n",
       " (0.06249499320983887, 107),\n",
       " (0.09372591972351074, 107),\n",
       " (0.07813644409179688, 107),\n",
       " (0.06249547004699707, 107),\n",
       " (0.07811927795410156, 107),\n",
       " (0.07811951637268066, 107),\n",
       " (0.07811594009399414, 107),\n",
       " (0.07810640335083008, 107),\n",
       " (0.07813215255737305, 107),\n",
       " (0.07811951637268066, 107),\n",
       " (0.10937142372131348, 337),\n",
       " (0.09374284744262695, 337),\n",
       " (0.12497329711914062, 337),\n",
       " (0.10936880111694336, 337),\n",
       " (0.09375977516174316, 337),\n",
       " (0.10936641693115234, 337),\n",
       " (0.09374356269836426, 337),\n",
       " (0.09374308586120605, 337),\n",
       " (0.10936713218688965, 337),\n",
       " (0.09372663497924805, 337),\n",
       " (0.10938501358032227, 457),\n",
       " (0.10936236381530762, 457),\n",
       " (0.12499094009399414, 457),\n",
       " (0.10936880111694336, 457),\n",
       " (0.10936927795410156, 457),\n",
       " (0.10936713218688965, 457),\n",
       " (0.09374308586120605, 457),\n",
       " (0.09374308586120605, 457),\n",
       " (0.10936760902404785, 457),\n",
       " (0.09374332427978516, 457),\n",
       " (0.10936617851257324, 593),\n",
       " (0.12499141693115234, 593),\n",
       " (0.09374356269836426, 593),\n",
       " (0.10936713218688965, 593),\n",
       " (0.09374332427978516, 593),\n",
       " (0.10936713218688965, 593),\n",
       " (0.10936713218688965, 593),\n",
       " (0.10936737060546875, 593),\n",
       " (0.10936665534973145, 593),\n",
       " (0.09374308586120605, 593),\n",
       " (0.12499165534973145, 1009),\n",
       " (0.14061450958251953, 1009),\n",
       " (0.12499117851257324, 1009),\n",
       " (0.140610933303833, 1009),\n",
       " (0.12499046325683594, 1009),\n",
       " (0.14061975479125977, 1009),\n",
       " (0.1406099796295166, 1009),\n",
       " (0.12499117851257324, 1009),\n",
       " (0.14061903953552246, 1009),\n",
       " (0.1406111717224121, 1009),\n",
       " (0.14061427116394043, 1723),\n",
       " (0.14062070846557617, 1723),\n",
       " (0.17186355590820312, 1723),\n",
       " (0.1562361717224121, 1723),\n",
       " (0.14061594009399414, 1723),\n",
       " (0.14061665534973145, 1723),\n",
       " (0.1562361717224121, 1723),\n",
       " (0.12499141693115234, 1723),\n",
       " (0.1562352180480957, 1723),\n",
       " (0.14061808586120605, 1723),\n",
       " (0.17186331748962402, 5779),\n",
       " (0.17186236381530762, 5779),\n",
       " (0.17186236381530762, 5779),\n",
       " (0.15623927116394043, 5779),\n",
       " (0.17186212539672852, 5779),\n",
       " (0.1718587875366211, 5779),\n",
       " (0.15624284744262695, 5779),\n",
       " (0.15623855590820312, 5779),\n",
       " (0.15623879432678223, 5779),\n",
       " (0.15623927116394043, 5779),\n",
       " (0.4062206745147705, 999331),\n",
       " (0.390596866607666, 999331),\n",
       " (0.3749725818634033, 999331),\n",
       " (0.3749732971191406, 999331),\n",
       " (0.3905971050262451, 999331),\n",
       " (0.390596866607666, 999331),\n",
       " (0.3749730587005615, 999331),\n",
       " (0.3749728202819824, 999331),\n",
       " (0.3749732971191406, 999331),\n",
       " (0.3749735355377197, 999331)]"
      ]
     },
     "execution_count": 11,
     "metadata": {},
     "output_type": "execute_result"
    }
   ],
   "source": [
    "\n",
    "\n",
    "K = [None] * 10\n",
    "K[0] = endlicher_koerper(5)\n",
    "K[1] = endlicher_koerper(19)\n",
    "K[2] = endlicher_koerper(107)\n",
    "K[3] = endlicher_koerper(337)\n",
    "K[4] = endlicher_koerper(457)\n",
    "K[5] = endlicher_koerper(593)\n",
    "K[6] = endlicher_koerper(1009)\n",
    "K[7] = endlicher_koerper(1723)\n",
    "K[8] = endlicher_koerper(5779)\n",
    "K[9] = endlicher_koerper(999331)\n",
    "\n",
    "seq = [1, 2, 3, 2, 3, 12, 10, 4, 1, 2, 5, 5, 34, 24, 26, 41, 4, 6, 5, 1, 345, 6345, 756, 745, 2234, 675, 345, 2345, 6, 4, 345, 2345, 6, 345]\n",
    "\n",
    "plotList = [None]\n",
    "for i in range(0,10):\n",
    "    for koerper in K:\n",
    "        plotList.append(LFSR.scalarMassey(seq,K[i]))\n",
    "plotList"
   ]
  },
  {
   "cell_type": "code",
   "execution_count": 12,
   "metadata": {},
   "outputs": [
    {
     "ename": "ModuleNotFoundError",
     "evalue": "No module named 'matplotlib'",
     "output_type": "error",
     "traceback": [
      "\u001b[1;31m---------------------------------------------------------------------------\u001b[0m",
      "\u001b[1;31mModuleNotFoundError\u001b[0m                       Traceback (most recent call last)",
      "\u001b[1;32m<ipython-input-12-c2950df8a39c>\u001b[0m in \u001b[0;36m<module>\u001b[1;34m\u001b[0m\n\u001b[1;32m----> 1\u001b[1;33m \u001b[1;32mfrom\u001b[0m \u001b[0mmatplotlib\u001b[0m \u001b[1;32mimport\u001b[0m \u001b[0mpyplot\u001b[0m \u001b[1;32mas\u001b[0m \u001b[0mplt\u001b[0m\u001b[1;33m\u001b[0m\u001b[1;33m\u001b[0m\u001b[0m\n\u001b[0m\u001b[0;32m      2\u001b[0m \u001b[0mfig\u001b[0m \u001b[1;33m=\u001b[0m \u001b[0mplt\u001b[0m\u001b[1;33m.\u001b[0m\u001b[0mfigure\u001b[0m\u001b[1;33m(\u001b[0m\u001b[1;33m)\u001b[0m\u001b[1;33m\u001b[0m\u001b[1;33m\u001b[0m\u001b[0m\n\u001b[0;32m      3\u001b[0m \u001b[0max\u001b[0m \u001b[1;33m=\u001b[0m \u001b[0mfig\u001b[0m\u001b[1;33m.\u001b[0m\u001b[0madd_axes\u001b[0m\u001b[1;33m(\u001b[0m\u001b[1;33m[\u001b[0m\u001b[1;36m0\u001b[0m\u001b[1;33m,\u001b[0m\u001b[1;36m0\u001b[0m\u001b[1;33m,\u001b[0m\u001b[1;36m1\u001b[0m\u001b[1;33m,\u001b[0m\u001b[1;36m1\u001b[0m\u001b[1;33m]\u001b[0m\u001b[1;33m)\u001b[0m\u001b[1;33m\u001b[0m\u001b[1;33m\u001b[0m\u001b[0m\n\u001b[0;32m      4\u001b[0m \u001b[0max\u001b[0m\u001b[1;33m.\u001b[0m\u001b[0mplot\u001b[0m\u001b[1;33m(\u001b[0m\u001b[0mplotList\u001b[0m\u001b[1;33m)\u001b[0m\u001b[1;33m\u001b[0m\u001b[1;33m\u001b[0m\u001b[0m\n",
      "\u001b[1;31mModuleNotFoundError\u001b[0m: No module named 'matplotlib'"
     ]
    }
   ],
   "source": [
    "from matplotlib import pyplot as plt\n",
    "fig = plt.figure()\n",
    "ax = fig.add_axes([0,0,1,1])\n",
    "ax.plot(plotList)\n"
   ]
  },
  {
   "cell_type": "code",
   "execution_count": null,
   "metadata": {},
   "outputs": [],
   "source": [
    "zeros = [0 for i in range(1)]\n",
    "print(zeros)\n",
    "smth = [1,2,3]\n",
    "\n",
    "zeros[len(zeros):] = smth\n",
    "print(zeros)\n",
    "print(zeros.reverse())"
   ]
  },
  {
   "cell_type": "code",
   "execution_count": null,
   "metadata": {},
   "outputs": [],
   "source": [
    "C = C + C.ring.variable**2\n",
    "print(C**2)"
   ]
  },
  {
   "cell_type": "code",
   "execution_count": null,
   "metadata": {},
   "outputs": [],
   "source": []
  }
 ],
 "metadata": {
  "kernelspec": {
   "display_name": "Python 3",
   "language": "python",
   "name": "python3"
  },
  "language_info": {
   "codemirror_mode": {
    "name": "ipython",
    "version": 3
   },
   "file_extension": ".py",
   "mimetype": "text/x-python",
   "name": "python",
   "nbconvert_exporter": "python",
   "pygments_lexer": "ipython3",
   "version": "3.7.3"
  }
 },
 "nbformat": 4,
 "nbformat_minor": 2
}

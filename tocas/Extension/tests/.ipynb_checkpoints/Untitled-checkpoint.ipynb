{
 "cells": [
  {
   "cell_type": "code",
   "execution_count": 1,
   "metadata": {},
   "outputs": [],
   "source": [
    "import project_path\n",
    "from Tocas import Polynomring, PolynomringElement, Z\n",
    "from Extension.Projekt import Berlekamp_Massey as LFSR\n",
    "\n",
    "def print_poly(polynomial):\n",
    "        result = ''\n",
    "        lis = sorted(polynomial, reverse=True)\n",
    "        for i in lis:\n",
    "            if i == 0:\n",
    "                result += '1'\n",
    "            else:\n",
    "                result += 'x^%s' % str(i)\n",
    "\n",
    "            if i != lis[-1]:\n",
    "                result += ' + '\n",
    "\n",
    "        return result\n",
    "R_X = Polynomring(Z)\n"
   ]
  },
  {
   "cell_type": "code",
   "execution_count": 2,
   "metadata": {
    "scrolled": true
   },
   "outputs": [
    {
     "name": "stdout",
     "output_type": "stream",
     "text": [
      "1\n",
      "1*x + 1*x^3  in Z[x]\n",
      "x^3 + 1\n",
      "1 + 1*x^3  in Z[x]\n",
      "x^4 + x^3 + 1\n",
      "1 + 1*x^3 + 1*x^4  in Z[x]\n",
      "x^5 + x^4 + x^3 + 1\n",
      "1 + 1*x^3 + 1*x^4 + 1*x^5  in Z[x]\n",
      "x^5 + x^4 + x^3 + 1\n"
     ]
    }
   ],
   "source": [
    "s = 0,0,1,0,0,0,0,0,1,1,0\n",
    "#print(LFSR.Berlekamp_Massey_algorithm(s))\n",
    "C = PolynomringElement([0,1,0,1],R_X)\n",
    "D = PolynomringElement([1,0,0,1],R_X)\n",
    "\n",
    "print(print_poly(set([0])))\n",
    "print(C)\n",
    "print(print_poly(set([3,0])))\n",
    "print(D)\n",
    "print(print_poly(set([3,0])^set([4])))\n",
    "print(D + R_X.variable**4)\n",
    "print(print_poly(set([3,0])^set([4])^set([5])))\n",
    "print(D + R_X.variable**4 + R_X.variable**5)\n",
    "print(print_poly(set([3,0]) ^ {4} ^ {5}))"
   ]
  },
  {
   "cell_type": "code",
   "execution_count": 3,
   "metadata": {},
   "outputs": [
    {
     "data": {
      "text/plain": [
       "1"
      ]
     },
     "execution_count": 3,
     "metadata": {},
     "output_type": "execute_result"
    }
   ],
   "source": [
    "len(set([4]))"
   ]
  },
  {
   "cell_type": "code",
   "execution_count": 4,
   "metadata": {
    "scrolled": false
   },
   "outputs": [
    {
     "name": "stdout",
     "output_type": "stream",
     "text": [
      "#Koeffizienten:\n",
      "0\n",
      "3\n",
      "#Koeffizienten:\n",
      "0\n",
      "3\n",
      "#Koeffizienten:\n",
      "0\n",
      "3\n",
      "in g \n",
      "[0]\n",
      "#Koeffizienten:\n",
      "3\n",
      "#Koeffizienten:\n",
      "3\n",
      "#Koeffizienten:\n",
      "3\n",
      "[3]\n",
      "#Koeffizienten:\n",
      "0\n",
      "6\n",
      "in g \n",
      "[3]\n",
      "#Koeffizienten:\n",
      "0\n",
      "5\n",
      "6\n",
      "in g \n",
      "[3]\n",
      "('x^6 + x^5 + x^4 + 1', 6)\n",
      "#Koeffizienten:\n",
      "0\n",
      "3\n",
      "#Koeffizienten:\n",
      "0\n",
      "3\n",
      "#Koeffizienten:\n",
      "0\n",
      "3\n",
      "in g \n",
      "[0]\n",
      "#Koeffizienten:\n",
      "0\n",
      "3\n",
      "#Koeffizienten:\n",
      "0\n",
      "3\n",
      "#Koeffizienten:\n",
      "0\n",
      "3\n",
      "[0, 1, 2, 3]\n",
      "#Koeffizienten:\n",
      "#Koeffizienten:\n",
      "(4 + 4*x + 5*x^2 + 6*x^3  in Z[x], 6)\n"
     ]
    }
   ],
   "source": [
    "s = 0,0,1,0,0,0,0,0,1,1,0\n",
    "print(LFSR.Berlekamp_Massey_algorithm(s)) \n",
    "print(LFSR.Berlekamp_Massey_algorithm_tocas(s))"
   ]
  },
  {
   "cell_type": "code",
   "execution_count": 5,
   "metadata": {},
   "outputs": [
    {
     "name": "stdout",
     "output_type": "stream",
     "text": [
      "[1, 0, 0, 1]\n"
     ]
    }
   ],
   "source": [
    "k = 2\n",
    "var = [0] * (k + 2)\n",
    "var[k+1] = 1\n",
    "var[0] = 1\n",
    "print(var)"
   ]
  },
  {
   "cell_type": "code",
   "execution_count": 6,
   "metadata": {},
   "outputs": [
    {
     "data": {
      "text/plain": [
       "4-er Tupel von Elementen aus dem Ring Z: \n",
       "\n",
       "(1,0,0,1)"
      ]
     },
     "execution_count": 6,
     "metadata": {},
     "output_type": "execute_result"
    }
   ],
   "source": [
    "D.koeffizienten"
   ]
  },
  {
   "cell_type": "code",
   "execution_count": 7,
   "metadata": {},
   "outputs": [
    {
     "name": "stdout",
     "output_type": "stream",
     "text": [
      "4\n",
      "1\n",
      "0\n",
      "0\n",
      "1\n",
      "4\n"
     ]
    }
   ],
   "source": [
    "d = 0\n",
    "print(D.koeffizienten.laenge)\n",
    "for i in range(0, D.koeffizienten.laenge):\n",
    "    print(D.koeffizienten[i])\n",
    "    d += 1\n",
    "print(d)"
   ]
  },
  {
   "cell_type": "code",
   "execution_count": 8,
   "metadata": {},
   "outputs": [
    {
     "data": {
      "text/plain": [
       "[0, 1, 0, 1]"
      ]
     },
     "execution_count": 8,
     "metadata": {},
     "output_type": "execute_result"
    }
   ],
   "source": [
    "[C.koeffizienten[i] for i in range(0, C.koeffizienten.laenge)]"
   ]
  },
  {
   "cell_type": "code",
   "execution_count": 9,
   "metadata": {},
   "outputs": [],
   "source": [
    "temp = D"
   ]
  },
  {
   "cell_type": "code",
   "execution_count": null,
   "metadata": {},
   "outputs": [],
   "source": []
  }
 ],
 "metadata": {
  "kernelspec": {
   "display_name": "Python 3",
   "language": "python",
   "name": "python3"
  },
  "language_info": {
   "codemirror_mode": {
    "name": "ipython",
    "version": 3
   },
   "file_extension": ".py",
   "mimetype": "text/x-python",
   "name": "python",
   "nbconvert_exporter": "python",
   "pygments_lexer": "ipython3",
   "version": "3.7.3"
  }
 },
 "nbformat": 4,
 "nbformat_minor": 2
}

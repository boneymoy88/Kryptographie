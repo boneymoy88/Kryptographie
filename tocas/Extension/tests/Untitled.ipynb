{
 "cells": [
  {
   "cell_type": "code",
   "execution_count": 1,
   "metadata": {},
   "outputs": [],
   "source": [
    "# -*- coding=utf-8 -*-\n",
    "import project_path\n",
    "from Tocas import Polynomring, PolynomringElement, Z, GanzzahlRestklassenring, GanzzahlRestklassenringElement\n",
    "from Extension.Projekt import Berlekamp_Massey as LFSR\n",
    "from Extension import endlicher_koerper\n",
    "from Extension.PolynomRestklassenring import PolynomRestklassenring, PolynomRestklassenringElement\n",
    "from Extension.endlicher_koerper import endlicher_koerper\n",
    "def print_poly(polynomial):\n",
    "        result = ''\n",
    "        lis = sorted(polynomial, reverse=True)\n",
    "        for i in lis:\n",
    "            if i == 0:\n",
    "                result += '1'\n",
    "            else:\n",
    "                result += 'x^%s' % str(i)\n",
    "\n",
    "            if i != lis[-1]:\n",
    "                result += ' + '\n",
    "\n",
    "        return result\n",
    "R_X = Polynomring(Z)\n"
   ]
  },
  {
   "cell_type": "code",
   "execution_count": 2,
   "metadata": {
    "scrolled": true
   },
   "outputs": [
    {
     "name": "stdout",
     "output_type": "stream",
     "text": [
      "1\n",
      "1*x + 1*x^3  in Z[x]\n",
      "x^3 + 1\n",
      "1 + 1*x^3  in Z[x]\n",
      "x^4 + x^3 + 1\n",
      "1 + 1*x^3 + 1*x^4  in Z[x]\n",
      "x^5 + x^4 + x^3 + 1\n",
      "1 + 1*x^3 + 1*x^4 + 1*x^5  in Z[x]\n",
      "x^5 + x^4 + x^3 + 1\n"
     ]
    }
   ],
   "source": [
    "s = 0,0,1,0,0,0,0,0,1,1,0\n",
    "#print(LFSR.Berlekamp_Massey_algorithm(s))\n",
    "C = PolynomringElement([0,1,0,1],R_X)\n",
    "D = PolynomringElement([1,0,0,1],R_X)\n",
    "\n",
    "print(print_poly(set([0])))\n",
    "print(C)\n",
    "print(print_poly(set([3,0])))\n",
    "print(D)\n",
    "print(print_poly(set([3,0])^set([4])))\n",
    "print(D + R_X.variable**4)\n",
    "print(print_poly(set([3,0])^set([4])^set([5])))\n",
    "print(D + R_X.variable**4 + R_X.variable**5)\n",
    "print(print_poly(set([3,0]) ^ {4} ^ {5}))"
   ]
  },
  {
   "cell_type": "code",
   "execution_count": 3,
   "metadata": {},
   "outputs": [
    {
     "data": {
      "text/plain": [
       "1"
      ]
     },
     "execution_count": 3,
     "metadata": {},
     "output_type": "execute_result"
    }
   ],
   "source": [
    "len(set([4]))"
   ]
  },
  {
   "cell_type": "code",
   "execution_count": 4,
   "metadata": {
    "scrolled": false
   },
   "outputs": [],
   "source": [
    "s = 0,0,1,2,0,0,5,1,1,0\n",
    "#print(LFSR.Berlekamp_Massey_algorithm_old(s)) \n",
    "#print(LFSR.Berlekamp_Massey_algorithm_binary(s))"
   ]
  },
  {
   "cell_type": "code",
   "execution_count": 5,
   "metadata": {},
   "outputs": [
    {
     "name": "stdout",
     "output_type": "stream",
     "text": [
      "[1, 0, 0, 1]\n"
     ]
    }
   ],
   "source": [
    "k = 2\n",
    "var = [0] * (k + 2)\n",
    "var[k+1] = 1\n",
    "var[0] = 1\n",
    "print(var)"
   ]
  },
  {
   "cell_type": "code",
   "execution_count": 6,
   "metadata": {},
   "outputs": [
    {
     "data": {
      "text/plain": [
       "4-er Tupel von Elementen aus dem Ring Z: \n",
       "\n",
       "(1,0,0,1)"
      ]
     },
     "execution_count": 6,
     "metadata": {},
     "output_type": "execute_result"
    }
   ],
   "source": [
    "D.koeffizienten"
   ]
  },
  {
   "cell_type": "code",
   "execution_count": 7,
   "metadata": {},
   "outputs": [
    {
     "name": "stdout",
     "output_type": "stream",
     "text": [
      "4\n",
      "1\n",
      "0\n",
      "0\n",
      "1\n",
      "4\n"
     ]
    }
   ],
   "source": [
    "d = 0\n",
    "print(D.koeffizienten.laenge)\n",
    "for i in range(0, D.koeffizienten.laenge):\n",
    "    print(D.koeffizienten[i])\n",
    "    d += 1\n",
    "print(d)"
   ]
  },
  {
   "cell_type": "code",
   "execution_count": 8,
   "metadata": {},
   "outputs": [
    {
     "data": {
      "text/plain": [
       "[0, 1, 0, 1]"
      ]
     },
     "execution_count": 8,
     "metadata": {},
     "output_type": "execute_result"
    }
   ],
   "source": [
    "[C.koeffizienten[i] for i in range(0, C.koeffizienten.laenge)]"
   ]
  },
  {
   "cell_type": "code",
   "execution_count": 9,
   "metadata": {},
   "outputs": [
    {
     "name": "stdout",
     "output_type": "stream",
     "text": [
      "True\n"
     ]
    }
   ],
   "source": [
    "F = GanzzahlRestklassenring(7)\n",
    "FX = Polynomring(F)\n",
    "g = PolynomringElement([1,0,1], FX)\n",
    "FX_g = PolynomRestklassenring(g)\n",
    "sequenz = [4,4,4,4,4,4,4,4,4,4,4,4]\n",
    "sequenz = [0,1,0,1,1,1,0]\n",
    "print(F.ist_endlicher_koerper())\n",
    "#LFSR.berlekamp_massey(sequenz,FX_g)\n",
    "#LFSR.Berlekamp_Massey_algorithm_binary(sequenz)"
   ]
  },
  {
   "cell_type": "code",
   "execution_count": 10,
   "metadata": {},
   "outputs": [
    {
     "name": "stdout",
     "output_type": "stream",
     "text": [
      "[1] in Z/7Z[x]/([1] + [1]*x^2)\n",
      "[1]*x in Z/7Z[x]/([1] + [1]*x^2)\n"
     ]
    },
    {
     "data": {
      "text/plain": [
       "[1]*x in Z/7Z[x]/([1] + [1]*x^2)"
      ]
     },
     "execution_count": 10,
     "metadata": {},
     "output_type": "execute_result"
    }
   ],
   "source": [
    "C = PolynomRestklassenringElement([1],FX_g)\n",
    "B = PolynomRestklassenringElement([1],FX_g)\n",
    "a = FX_g.modulus.ring.variable\n",
    "print(C * B)\n",
    "print(B * FX_g.erzeuger)\n",
    "FX_g.erzeuger"
   ]
  },
  {
   "cell_type": "code",
   "execution_count": 11,
   "metadata": {},
   "outputs": [
    {
     "data": {
      "text/plain": [
       "[1] + [4]*x + [5]*x^2 + [3]*x^3 + [1]*x^5 + [5]*x^6 + [1]*x^7 + [4]*x^9  in Z/7Z[x]"
      ]
     },
     "execution_count": 11,
     "metadata": {},
     "output_type": "execute_result"
    }
   ],
   "source": [
    "K = Polynomring(endlicher_koerper(7))\n",
    "seq = [4,4,4,3,5,4,6,4,1,2,4,1,4,4,4,4,4]\n",
    "LFSR.scalarMassey(seq,endlicher_koerper(7))"
   ]
  },
  {
   "cell_type": "code",
   "execution_count": 12,
   "metadata": {},
   "outputs": [],
   "source": [
    "polyRing = Polynomring(K)\n",
    "C = PolynomringElement([K.eins],polyRing)\n",
    "B = PolynomringElement([K.eins],polyRing)\n",
    "x = 1\n",
    "L = 0\n",
    "b = polyRing.eins\n",
    "N = 0\n",
    "def disc(poly,seq,n,polyRing,field):\n",
    "    total = field.null\n",
    "    for i in range(poly.grad + 1):\n",
    "        d = poly.koeffizienten[i] * seq[n-i]\n",
    "        total= total + d\n",
    "    return total\n",
    "x = 1\n"
   ]
  },
  {
   "cell_type": "code",
   "execution_count": 13,
   "metadata": {},
   "outputs": [
    {
     "name": "stdout",
     "output_type": "stream",
     "text": [
      "[0]\n",
      "[0, 1, 2, 3]\n",
      "None\n"
     ]
    }
   ],
   "source": [
    "zeros = [0 for i in range(1)]\n",
    "print(zeros)\n",
    "smth = [1,2,3]\n",
    "\n",
    "zeros[len(zeros):] = smth\n",
    "print(zeros)\n",
    "print(zeros.reverse())"
   ]
  },
  {
   "cell_type": "code",
   "execution_count": 14,
   "metadata": {},
   "outputs": [
    {
     "name": "stdout",
     "output_type": "stream",
     "text": [
      "[1] + [2]*x^2 + [1]*x^4  in Z/7Z[x][x]\n"
     ]
    }
   ],
   "source": [
    "C = C + C.ring.variable**2\n",
    "print(C**2)"
   ]
  },
  {
   "cell_type": "code",
   "execution_count": null,
   "metadata": {},
   "outputs": [],
   "source": []
  }
 ],
 "metadata": {
  "kernelspec": {
   "display_name": "Python 3",
   "language": "python",
   "name": "python3"
  },
  "language_info": {
   "codemirror_mode": {
    "name": "ipython",
    "version": 3
   },
   "file_extension": ".py",
   "mimetype": "text/x-python",
   "name": "python",
   "nbconvert_exporter": "python",
   "pygments_lexer": "ipython3",
   "version": "3.7.3"
  }
 },
 "nbformat": 4,
 "nbformat_minor": 2
}

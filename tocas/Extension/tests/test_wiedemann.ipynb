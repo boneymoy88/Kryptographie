{
 "cells": [
  {
   "cell_type": "code",
   "execution_count": 9,
   "metadata": {},
   "outputs": [],
   "source": [
    "import project_path\n",
    "from Tocas import Polynomring, PolynomringElement, Z\n",
    "from Extension import endlicher_koerper\n",
    "from Extension.Projekt import Wiedemann\n",
    "import numpy as np"
   ]
  },
  {
   "cell_type": "code",
   "execution_count": 11,
   "metadata": {},
   "outputs": [
    {
     "name": "stdout",
     "output_type": "stream",
     "text": [
      "[array([[1, 2, 3],\n",
      "       [1, 2, 3],\n",
      "       [1, 2, 3]], dtype=int32), array([[3, 0, 1],\n",
      "       [3, 0, 1],\n",
      "       [3, 0, 1]], dtype=int32), array([[5, 6, 7],\n",
      "       [5, 6, 7],\n",
      "       [5, 6, 7]], dtype=int32), array([[7, 4, 5],\n",
      "       [7, 4, 5],\n",
      "       [7, 4, 5]], dtype=int32), array([[ 9, 10, 11],\n",
      "       [ 9, 10, 11],\n",
      "       [ 9, 10, 11]], dtype=int32)]\n"
     ]
    },
    {
     "data": {
      "text/plain": [
       "0"
      ]
     },
     "execution_count": 11,
     "metadata": {},
     "output_type": "execute_result"
    }
   ],
   "source": [
    "A = np.array([[1,2,3], [1,2,3], [1,2,3]])\n",
    "b = np.array([2,2,2])\n",
    "Wiedemann.wiedemann(A,b)"
   ]
  },
  {
   "cell_type": "code",
   "execution_count": null,
   "metadata": {},
   "outputs": [],
   "source": []
  }
 ],
 "metadata": {
  "kernelspec": {
   "display_name": "Python 3",
   "language": "python",
   "name": "python3"
  },
  "language_info": {
   "codemirror_mode": {
    "name": "ipython",
    "version": 3
   },
   "file_extension": ".py",
   "mimetype": "text/x-python",
   "name": "python",
   "nbconvert_exporter": "python",
   "pygments_lexer": "ipython3",
   "version": "3.7.3"
  }
 },
 "nbformat": 4,
 "nbformat_minor": 2
}

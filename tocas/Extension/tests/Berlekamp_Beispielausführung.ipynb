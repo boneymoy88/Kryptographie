{
 "cells": [
  {
   "cell_type": "code",
   "execution_count": 16,
   "metadata": {},
   "outputs": [],
   "source": [
    "# -*- coding=utf-8 -*-\n",
    "import project_path\n",
    "from Tocas import Polynomring, PolynomringElement, Z, GanzzahlRestklassenring, GanzzahlRestklassenringElement\n",
    "from Extension.Projekt import Berlekamp_Massey as LFSR\n",
    "from Extension.PolynomRestklassenring import PolynomRestklassenring, PolynomRestklassenringElement\n",
    "from Extension.endlicher_koerper import endlicher_koerper\n",
    "from Extension.Bruchzahlring import Q, Bruchzahlring, BruchzahlringElement\n",
    "from matplotlib import pyplot as plt"
   ]
  },
  {
   "cell_type": "code",
   "execution_count": 17,
   "metadata": {},
   "outputs": [
    {
     "name": "stdout",
     "output_type": "stream",
     "text": [
      "([1] + [4]*x + [1]*x^2 + [4]*x^3 + [6]*x^5 + [5]*x^6 + [1]*x^7 + [1]*x^8 + [4]*x^9 + [1]*x^10  in Z/7Z[x], 10)\n"
     ]
    }
   ],
   "source": [
    "# Verwendung des Berlekamp-Massey-Algorithmus\n",
    "\n",
    "# Erstellen eines enlichen Körpers K nach Tocas\n",
    "K = endlicher_koerper(7)\n",
    "\n",
    "# Sequenz zu der lineare Komplexität sowie das minimale Rückkopplungspolynom bestimmt werden sollen\n",
    "seq = [1,1,4,5,45,2,2,3,5,2,3,4,6,7,8,234,4,5,34] # lin Kompl. 10\n",
    "\n",
    "# Berlekamp-Massey Algorithmus ausführen\n",
    "print(LFSR.berleMassey(seq, K))\n",
    "\n"
   ]
  },
  {
   "cell_type": "markdown",
   "metadata": {},
   "source": [
    "Rückgabewerte ist Tupel: an erster Stelle das minimale Rückkopplungspolynom, an der zweiten die lineare Komplexität der Sequenz\n"
   ]
  },
  {
   "cell_type": "code",
   "execution_count": 18,
   "metadata": {},
   "outputs": [
    {
     "name": "stdout",
     "output_type": "stream",
     "text": [
      "([8269695] + [13461924]*x + [3168752]*x^2 + [7423912]*x^3 + [10494222]*x^4 + [3174075]*x^5 + [5946856]*x^6 + [2422447]*x^7 + [11456906]*x^8 + [4186730]*x^9 + [9070651]*x^10 + [4252414]*x^11 + [8741443]*x^12 + [5900440]*x^13 + [12285259]*x^14 + [1709698]*x^15 + [4215174]*x^16 + [7182237]*x^17 + [206383]*x^18 + [737534]*x^19 + [1]*x^20  in Z/15485867Z[x], 20)\n"
     ]
    }
   ],
   "source": [
    "K = endlicher_koerper(15485867)\n",
    "# lin Kompl. 20\n",
    "seq = [3,2,3,1,4,7,8,1,2,8,5,6,3,2,3,1,1,1,4,5,45,2,2,3,5,2,3,4,6,7,8,234,4,5,34,1,4,5,45,2]\n",
    "\n",
    "print(LFSR.berleMassey(seq, K))"
   ]
  },
  {
   "cell_type": "code",
   "execution_count": null,
   "metadata": {},
   "outputs": [],
   "source": []
  },
  {
   "cell_type": "code",
   "execution_count": null,
   "metadata": {},
   "outputs": [],
   "source": []
  }
 ],
 "metadata": {
  "kernelspec": {
   "display_name": "Python 3",
   "language": "python",
   "name": "python3"
  },
  "language_info": {
   "codemirror_mode": {
    "name": "ipython",
    "version": 3
   },
   "file_extension": ".py",
   "mimetype": "text/x-python",
   "name": "python",
   "nbconvert_exporter": "python",
   "pygments_lexer": "ipython3",
   "version": "3.6.8"
  }
 },
 "nbformat": 4,
 "nbformat_minor": 2
}

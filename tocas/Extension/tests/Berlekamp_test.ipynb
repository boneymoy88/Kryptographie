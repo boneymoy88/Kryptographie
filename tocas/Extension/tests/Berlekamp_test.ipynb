{
 "cells": [
  {
   "cell_type": "code",
   "execution_count": 20,
   "metadata": {},
   "outputs": [],
   "source": [
    "# -*- coding=utf-8 -*-\n",
    "import project_path\n",
    "from Tocas import Polynomring, PolynomringElement, Z, GanzzahlRestklassenring, GanzzahlRestklassenringElement\n",
    "from Extension.Projekt import Berlekamp_Massey as LFSR\n",
    "from Extension import endlicher_koerper\n",
    "from Extension.PolynomRestklassenring import PolynomRestklassenring, PolynomRestklassenringElement\n",
    "from Extension.endlicher_koerper import endlicher_koerper\n",
    "from Extension.Bruchzahlring import Q, BruchzahlringElement\n",
    "from matplotlib import pyplot as plt"
   ]
  },
  {
   "cell_type": "code",
   "execution_count": 2,
   "metadata": {},
   "outputs": [],
   "source": [
    "seq = [None]*100\n",
    "seq[1] = [1]\n",
    "seq[2] = [1,4,5]\n",
    "seq[3] = [1,4,5,45,2]\n",
    "seq[4] = [1,4,5,4,2,3,5,3,5]\n",
    "seq[5] = [1,4,5,45,2,3,5,3,5]\n",
    "seq[6] = [1,4,5,45,2,32,5,3,5,3,4,5]\n",
    "seq[7] = [1,4,5,5,2,3,5,2,3,4,6,7,8,4,5]\n",
    "seq[8] = [1,4,5,45,2,2,3,5,2,3,4,6,7,8,4,5]\n",
    "seq[9] = [1,4,5,45,2,2,3,5,2,3,4,6,7,8,234,4,5]\n",
    "seq[10] = [1, 1,4,5,45,2,2,3,5,2,3,4,6,7,8,234,4,5,34]\n",
    "#20\n",
    "seq[11] = [3, 1, 4, 7, 8, 1, 2, 8, 5, 6, 3, 2, 3, 1, 1, 1,4,5,45,2,2,3,5,2,3,4,6,7,8,234,4,5,34,1,4,5,45,2]\n",
    "#30\n",
    "seq[12] = [34,5,1, 1,4,5,45,2,2,3,5,2,3,4,6,7,8,234,4,5,34,3, 1, 4, 7, 8, 1, 2, 8, 5, 6, 3, 2, 3, 1, 1, 1,4,5,45,2,2,3,5,2,3,4,6,7,8,234,4,5,34,1,4,5,45,2]\n",
    "#40\n",
    "seq[13] = [1,4,5,1,4,5,45,2,2,3,5,2,3,43, 1, 4, 7, 8, 1, 2, 834,5,1, 1,4,5,45,2,2,3,5,2,3,4,6,7,8,234,4,5,34,3, 1, 4, 7, 8, 1, 2, 8, 5, 6, 3, 2, 3, 1, 1, 1,4,5,45,2,2,3,5,2,3,4,6,7,8,234,4,5,34,1,4,5,45,2]\n",
    "#50\n",
    "seq[14] = [4,2,1, 1,4,5,45,2,2,3,5,2,3,4,6,7,8,234,4,5,341,4,5,1,4,5,45,2,2,3,5,2,3,43, 1, 4, 7, 8, 1, 2, 834,5,1, 1,4,5,45,2,2,3,5,2,3,4,6,7,8,234,4,5,34,3, 1, 4, 7, 8, 1, 2, 8, 5, 6, 3, 2, 3, 1, 1, 1,4,5,45,2,2,3,5,2,3,4,6,7,8,234,4,5,34,1,4,5,45,2]\n",
    "#60\n",
    "seq[15] = [2, 3, 2, 3, 12, 10, 4, 1, 2, 5, 5, 34, 24, 26, 41, 4, 6, 5, 1, 345, 6345,4,2,1, 1,4,5,45,2,2,3,5,2,3,4,6,7,8,234,4,5,341,4,5,1,4,5,45,2,2,3,5,2,3,43, 1, 4, 7, 8, 1, 2, 834,5,1, 1,4,5,45,2,2,3,5,2,3,4,6,7,8,234,4,5,34,3, 1, 4, 7, 8, 1, 2, 8, 5, 6, 3, 2, 3, 1, 1, 1,4,5,45,2,2,3,5,2,3,4,6,7,8,234,4,5,34,1,4,5,45,2]\n",
    "#95 -> 9,6/7\n",
    "seq[16] = [ 1, 345, 6345, 756, 745, 2234, 675, 345, 2345, 6, 4, 345, 2345, 6, 345,3, 1, 4, 7, 8, 1, 2, 8, 5, 6, 3, 2, 3, 1, 4, 7, 8, 1, 2, 8, 5, 6, 3, 2 , 3, 1, 4, 7, 8, 1, 2, 8, 5, 6, 3, 2, 3,5,3,2,5,6,45,45,645,6456,46,46,46,64,6,6,5,3,2,4,7,8,8,67,5,34,3,4,5,65,76,7,8,8,8,6,45,3,2, 3, 2, 3, 12, 10, 4, 1, 2, 5, 5, 34, 24, 26, 41, 4, 6, 5, 1, 345, 6345,4,2,1, 1,4,5,45,2,2,3,5,2,3,4,6,7,8,234,4,5,341,4,5,1,4,5,45,2,2,3,5,2,3,43, 1, 4, 7, 8, 1, 2, 834,5,1, 1,4,5,45,2,2,3,5,2,3,4,6,7,8,234,4,5,34,3, 1, 4, 7, 8, 1, 2, 8, 5, 6, 3, 2, 3, 1, 1, 1,4,5,45,2]\n",
    "#100 -> 10\n",
    "seq[17] = [5, 5, 34, 24, 26, 41, 4, 6, 5, 1, 345, 6345, 756, 745, 2234, 675, 345, 2345, 6, 4, 345, 2345, 6, 345,3, 1, 4, 7, 8, 1, 2, 8, 5, 6, 3, 2, 3, 1, 4, 7, 8, 1, 2, 8, 5, 6, 3, 2 , 3, 1, 4, 7, 8, 1, 2, 8, 5, 6, 3, 2, 3,5,3,2,5,6,45,45,645,6456,46,46,46,64,6,6,5,3,2,4,7,8,8,67,5,34,3,4,5,65,76,7,8,8,8,6,45,3,2, 3, 2, 3, 12, 10, 4, 1, 2, 5, 5, 34, 24, 26, 41, 4, 6, 5, 1, 345, 6345,4,2,1, 1,4,5,45,2,2,3,5,2,3,4,6,7,8,234,4,5,341,4,5,1,4,5,45,2,2,3,5,2,3,43, 1, 4, 7, 8, 1, 2, 834,5,1, 1,4,5,45,2,2,3,5,2,3,4,6,7,8,234,4,5,34,3, 1, 4, 7, 8, 1, 2, 8, 5, 6, 3, 2, 3, 1, 1, 1,4,5,45,2]\n",
    "#105 -> 12,4\n",
    "seq[18] = [1, 2, 3, 2, 3, 12, 10, 4, 1, 2, 5, 5, 34, 24, 26, 41, 4, 6, 5, 1, 345, 6345, 756, 745, 2234, 675, 345, 2345, 6, 4, 345, 2345, 6, 345,3, 1, 4, 7, 8, 1, 2, 8, 5, 6, 3, 2, 3, 1, 4, 7, 8, 1, 2, 8, 5, 6, 3, 2 , 3, 1, 4, 7, 8, 1, 2, 8, 5, 6, 3, 2, 3,5,3,2,5,6,45,45,645,6456,46,46,46,64,6,6,5,3,2,4,7,8,8,67,5,34,3,4,5,65,76,7,8,8,8,6,45,3,2, 3, 2, 3, 12, 10, 4, 1, 2, 5, 5, 34, 24, 26, 41, 4, 6, 5, 1, 345, 6345,4,2,1, 1,4,5,45,2,2,3,5,2,3,4,6,7,8,234,4,5,341,4,5,1,4,5,45,2,2,3,5,2,3,43, 1, 4, 7, 8, 1, 2, 834,5,1, 1,4,5,45,2,2,3,5,2,3,4,6,7,8,234,4,5,34,3, 1, 4, 7, 8, 1, 2, 8, 5, 6, 3, 2, 3, 1, 1, 1,4,5,45,2]\n",
    "#110\n",
    "seq[19] = [1, 2, 3, 2, 3, 12, 10, 4, 1, 2, 5, 5, 34, 24, 26, 41, 4, 6, 5, 1, 345, 6345, 756, 745, 2234, 675, 345, 2345, 6, 4, 345, 2345, 6, 345,3, 1, 4, 7, 8, 1, 2, 8, 5, 6, 3, 2, 3, 1, 4, 7, 8, 1, 2, 8, 5, 6, 3, 2 , 3, 1, 4, 7, 8, 1, 2, 8, 5, 6, 3, 2, 3,5,3,2,5,6,45,45,645,6456,46,46,46,64,6,6,5,3,2,4,7,8,8,67,5,34,3,4,5,65,76,7,8,8,8,6,45,3,2, 3, 2, 3, 12, 10, 4, 1, 2, 5, 5, 34, 24, 26, 41, 4, 6, 5, 1, 345, 6345,4,2,1, 1,4,5,45,2,2,3,5,2,3,4,6,7,8,234,4,5,341,4,5,1,4,5,45,2,2,3,5,2,3,43, 1, 4, 7, 8, 1, 2, 834,5,1, 1,4,5,45,2,2,3,5,2,3,4,6,7,8,234,4,5,34,3, 1, 4, 7, 8, 1, 2, 8, 5, 6, 3, 2, 3, 1, 1, 1,4,5,45,2,2,3,5,2,3,4,6,7,8,234,4,5,34,1,4,5,45,2]\n",
    "#123 -> 19\n",
    "seq[20] = [2,2,3,5,2,3,4,6,7,8,234,4,5,34,1,4,5,45,2,3, 2, 3, 12, 10, 4, 1, 2, 5, 5, 34, 24, 26, 41, 4, 6, 5, 1, 345, 6345, 756, 745, 2234, 675, 345, 2345, 6, 4, 345, 2345, 6, 345,3, 1, 4, 7, 8, 1, 2, 8, 5, 6, 3, 2, 3, 1, 4, 7, 8, 1, 2, 8, 5, 6, 3, 2 , 3, 1, 4, 7, 8, 1, 2, 8, 5, 6, 3, 2, 3,5,3,2,5,6,45,45,645,6456,46,46,46,64,6,6,5,3,2,4,7,8,8,67,5,34,3,4,5,65,76,7,8,8,8,6,45,3,2, 3, 2, 3, 12, 10, 4, 1, 2, 5, 5, 34, 24, 26, 41, 4, 6, 5, 1, 345, 6345,4,2,1, 1,4,5,45,2,2,3,5,2,3,4,6,7,8,234,4,5,341,4,5,1,4,5,45,2,2,3,5,2,3,43, 1, 4, 7, 8, 1, 2, 834,5,1, 1,4,5,45,2,2,3,5,2,3,4,6,7,8,234,4,5,34,3, 1, 4, 7, 8, 1, 2, 8, 5, 6, 3, 2, 3, 1, 1, 1,4,5,45,2,2,3,5,2,3,4,6,7,8,234,4,5,34,1,4,5,45,2]\n",
    "#132 -> 23\n",
    "seq[21] = [3, 1, 4, 7, 8, 1, 2, 8, 5, 6, 3, 2, 3, 1, 1, 1,4,5,45,2,2,3,5,2,3,4,6,7,8,234,4,5,34,1,4,5,45,2,3, 2, 3, 12, 10, 4, 1, 2, 5, 5, 34, 24, 26, 41, 4, 6, 5, 1, 345, 6345, 756, 745, 2234, 675, 345, 2345, 6, 4, 345, 2345, 6, 345,3, 1, 4, 7, 8, 1, 2, 8, 5, 6, 3, 2, 3, 1, 4, 7, 8, 1, 2, 8, 5, 6, 3, 2 , 3, 1, 4, 7, 8, 1, 2, 8, 5, 6, 3, 2, 3,5,3,2,5,6,45,45,645,6456,46,46,46,64,6,6,5,3,2,4,7,8,8,67,5,34,3,4,5,65,76,7,8,8,8,6,45,3,2, 3, 2, 3, 12, 10, 4, 1, 2, 5, 5, 34, 24, 26, 41, 4, 6, 5, 1, 345, 6345,4,2,1, 1,4,5,45,2,2,3,5,2,3,4,6,7,8,234,4,5,341,4,5,1,4,5,45,2,2,3,5,2,3,43, 1, 4, 7, 8, 1, 2, 834,5,1, 1,4,5,45,2,2,3,5,2,3,4,6,7,8,234,4,5,34,3, 1, 4, 7, 8, 1, 2, 8, 5, 6, 3, 2, 3, 1, 1, 1,4,5,45,2,2,3,5,2,3,4,6,7,8,234,4,5,34,1,4,5,45,2]\n",
    "#142 -> 31\n",
    "seq[22] = [5,1, 1,4,5,45,2,2,3,5,2,3,4,6,7,8,234,4,5,34,3, 1, 4, 7, 8, 1, 2, 8, 5, 6, 3, 2, 3, 1, 1, 1,4,5,45,2,2,3,5,2,3,4,6,7,8,234,4,5,34,1,4,5,45,2,3, 2, 3, 12, 10, 4, 1, 2, 5, 5, 34, 24, 26, 41, 4, 6, 5, 1, 345, 6345, 756, 745, 2234, 675, 345, 2345, 6, 4, 345, 2345, 6, 345,3, 1, 4, 7, 8, 1, 2, 8, 5, 6, 3, 2, 3, 1, 4, 7, 8, 1, 2, 8, 5, 6, 3, 2 , 3, 1, 4, 7, 8, 1, 2, 8, 5, 6, 3, 2, 3,5,3,2,5,6,45,45,645,6456,46,46,46,64,6,6,5,3,2,4,7,8,8,67,5,34,3,4,5,65,76,7,8,8,8,6,45,3,2, 3, 2, 3, 12, 10, 4, 1, 2, 5, 5, 34, 24, 26, 41, 4, 6, 5, 1, 345, 6345,4,2,1, 1,4,5,45,2,2,3,5,2,3,4,6,7,8,234,4,5,341,4,5,1,4,5,45,2,2,3,5,2,3,43, 1, 4, 7, 8, 1, 2, 834,5,1, 1,4,5,45,2,2,3,5,2,3,4,6,7,8,234,4,5,34,3, 1, 4, 7, 8, 1, 2, 8, 5, 6, 3, 2, 3, 1, 1, 1,4,5,45,2,2,3,5,2,3,4,6,7,8,234,4,5,34,1,4,5,45,2]\n",
    "#149 -> 32\n",
    "seq[23] = [2,3,5,2,3,43, 1, 4, 7, 8, 1, 2, 834,5,1, 1,4,5,45,2,2,3,5,2,3,4,6,7,8,234,4,5,34,3, 1, 4, 7, 8, 1, 2, 8, 5, 6, 3, 2, 3, 1, 1, 1,4,5,45,2,2,3,5,2,3,4,6,7,8,234,4,5,34,1,4,5,45,2,3, 2, 3, 12, 10, 4, 1, 2, 5, 5, 34, 24, 26, 41, 4, 6, 5, 1, 345, 6345, 756, 745, 2234, 675, 345, 2345, 6, 4, 345, 2345, 6, 345,3, 1, 4, 7, 8, 1, 2, 8, 5, 6, 3, 2, 3, 1, 4, 7, 8, 1, 2, 8, 5, 6, 3, 2 , 3, 1, 4, 7, 8, 1, 2, 8, 5, 6, 3, 2, 3,5,3,2,5,6,45,45,645,6456,46,46,46,64,6,6,5,3,2,4,7,8,8,67,5,34,3,4,5,65,76,7,8,8,8,6,45,3,2, 3, 2, 3, 12, 10, 4, 1, 2, 5, 5, 34, 24, 26, 41, 4, 6, 5, 1, 345, 6345,4,2,1, 1,4,5,45,2,2,3,5,2,3,4,6,7,8,234,4,5,341,4,5,1,4,5,45,2,2,3,5,2,3,43, 1, 4, 7, 8, 1, 2, 834,5,1, 1,4,5,45,2,2,3,5,2,3,4,6,7,8,234,4,5,34,3, 1, 4, 7, 8, 1, 2, 8, 5, 6, 3, 2, 3, 1, 1, 1,4,5,45,2,2,3,5,2,3,4,6,7,8,234,4,5,34,1,4,5,45,2]\n",
    "#155 -> 37\n",
    "seq[24] = [8,234,4,5,341,4,5,1,4,5,45,2,2,3,5,2,3,43, 1, 4, 7, 8, 1, 2, 834,5,1, 1,4,5,45,2,2,3,5,2,3,4,6,7,8,234,4,5,34,3, 1, 4, 7, 8, 1, 2, 8, 5, 6, 3, 2, 3, 1, 1, 1,4,5,45,2,2,3,5,2,3,4,6,7,8,234,4,5,34,1,4,5,45,2,3, 2, 3, 12, 10, 4, 1, 2, 5, 5, 34, 24, 26, 41, 4, 6, 5, 1, 345, 6345, 756, 745, 2234, 675, 345, 2345, 6, 4, 345, 2345, 6, 345,3, 1, 4, 7, 8, 1, 2, 8, 5, 6, 3, 2, 3, 1, 4, 7, 8, 1, 2, 8, 5, 6, 3, 2 , 3, 1, 4, 7, 8, 1, 2, 8, 5, 6, 3, 2, 3,5,3,2,5,6,45,45,645,6456,46,46,46,64,6,6,5,3,2,4,7,8,8,67,5,34,3,4,5,65,76,7,8,8,8,6,45,3,2, 3, 2, 3, 12, 10, 4, 1, 2, 5, 5, 34, 24, 26, 41, 4, 6, 5, 1, 345, 6345,4,2,1, 1,4,5,45,2,2,3,5,2,3,4,6,7,8,234,4,5,341,4,5,1,4,5,45,2,2,3,5,2,3,43, 1, 4, 7, 8, 1, 2, 834,5,1, 1,4,5,45,2,2,3,5,2,3,4,6,7,8,234,4,5,34,3, 1, 4, 7, 8, 1, 2, 8, 5, 6, 3, 2, 3, 1, 1, 1,4,5,45,2,2,3,5,2,3,4,6,7,8,234,4,5,34,1,4,5,45,2]\n",
    "#163 -> 44\n",
    "seq[25] = [6345,4,2,1, 1,4,5,45,2,2,3,5,2,3,4,6,7,8,234,4,5,341,4,5,1,4,5,45,2,2,3,5,2,3,43, 1, 4, 7, 8, 1, 2, 834,5,1, 1,4,5,45,2,2,3,5,2,3,4,6,7,8,234,4,5,34,3, 1, 4, 7, 8, 1, 2, 8, 5, 6, 3, 2, 3, 1, 1, 1,4,5,45,2,2,3,5,2,3,4,6,7,8,234,4,5,34,1,4,5,45,2,3, 2, 3, 12, 10, 4, 1, 2, 5, 5, 34, 24, 26, 41, 4, 6, 5, 1, 345, 6345, 756, 745, 2234, 675, 345, 2345, 6, 4, 345, 2345, 6, 345,3, 1, 4, 7, 8, 1, 2, 8, 5, 6, 3, 2, 3, 1, 4, 7, 8, 1, 2, 8, 5, 6, 3, 2 , 3, 1, 4, 7, 8, 1, 2, 8, 5, 6, 3, 2, 3,5,3,2,5,6,45,45,645,6456,46,46,46,64,6,6,5,3,2,4,7,8,8,67,5,34,3,4,5,65,76,7,8,8,8,6,45,3,2, 3, 2, 3, 12, 10, 4, 1, 2, 5, 5, 34, 24, 26, 41, 4, 6, 5, 1, 345, 6345,4,2,1, 1,4,5,45,2,2,3,5,2,3,4,6,7,8,234,4,5,341,4,5,1,4,5,45,2,2,3,5,2,3,43, 1, 4, 7, 8, 1, 2, 834,5,1, 1,4,5,45,2,2,3,5,2,3,4,6,7,8,234,4,5,34,3, 1, 4, 7, 8, 1, 2, 8, 5, 6, 3, 2, 3, 1, 1, 1,4,5,45,2,2,3,5,2,3,4,6,7,8,234,4,5,34,1,4,5,45,2]\n",
    "#174 -> 52/41\n",
    "seq[26] = [1, 2, 2, 3, 2, 3, 12, 10, 4, 1, 2, 5, 5, 34, 24, 26, 41, 4, 6, 5, 1, 345, 6345,4,2,1, 1,4,5,45,2,2,3,5,2,3,4,6,7,8,234,4,5,341,4,5,1,4,5,45,2,2,3,5,2,3,43, 1, 4, 7, 8, 1, 2, 834,5,1, 1,4,5,45,2,2,3,5,2,3,4,6,7,8,234,4,5,34,3, 1, 4, 7, 8, 1, 2, 8, 5, 6, 3, 2, 3, 1, 1, 1,4,5,45,2,2,3,5,2,3,4,6,7,8,234,4,5,34,1,4,5,45,2,3, 2, 3, 12, 10, 4, 1, 2, 5, 5, 34, 24, 26, 41, 4, 6, 5, 1, 345, 6345, 756, 745, 2234, 675, 345, 2345, 6, 4, 345, 2345, 6, 345,3, 1, 4, 7, 8, 1, 2, 8, 5, 6, 3, 2, 3, 1, 4, 7, 8, 1, 2, 8, 5, 6, 3, 2 , 3, 1, 4, 7, 8, 1, 2, 8, 5, 6, 3, 2, 3,5,3,2,5,6,45,45,645,6456,46,46,46,64,6,6,5,3,2,4,7,8,8,67,5,34,3,4,5,65,76,7,8,8,8,6,45,3,2, 3, 2, 3, 12, 10, 4, 1, 2, 5, 5, 34, 24, 26, 41, 4, 6, 5, 1, 345, 6345,4,2,1, 1,4,5,45,2,2,3,5,2,3,4,6,7,8,234,4,5,341,4,5,1,4,5,45,2,2,3,5,2,3,43, 1, 4, 7, 8, 1, 2, 834,5,1, 1,4,5,45,2,2,3,5,2,3,4,6,7,8,234,4,5,34,3, 1, 4, 7, 8, 1, 2, 8, 5, 6, 3, 2, 3, 1, 1, 1,4,5,45,2,2,3,5,2,3,4,6,7,8,234,4,5,34,1,4,5,45,2]\n"
   ]
  },
  {
   "cell_type": "code",
   "execution_count": 4,
   "metadata": {},
   "outputs": [],
   "source": [
    "K = [None] * 106\n",
    "J = [None] * 5\n",
    "K[0] = endlicher_koerper(15485867)\n",
    "K[1] = endlicher_koerper(32452867)\n",
    "K[2] = endlicher_koerper(49979687)\n",
    "K[3] = endlicher_koerper(49979693)\n",
    "K[4] = endlicher_koerper(67867967)\n",
    "K[5] = endlicher_koerper(67867979)\n",
    "K[6] = endlicher_koerper(86028121)\n",
    "K[7] = endlicher_koerper(86028157)\n",
    "K[8] = endlicher_koerper(104395301)\n",
    "K[9] = endlicher_koerper(104395303)\n",
    "K[10] = endlicher_koerper(122949823)\n",
    "K[11] = endlicher_koerper(122949829)\n",
    "K[12] = endlicher_koerper(141650939)\n",
    "K[13] = endlicher_koerper(141650963)\n",
    "K[14] = endlicher_koerper(160481183)\n",
    "K[15] = endlicher_koerper(160481219)\n",
    "K[16] = endlicher_koerper(179424673)\n",
    "K[17] = endlicher_koerper(179424691)\n",
    "K[18] = endlicher_koerper(198491317)\n",
    "K[19] = endlicher_koerper(198491329)\n",
    "K[20] = endlicher_koerper(217645177)\n",
    "K[21] = endlicher_koerper(217645199)\n",
    "K[22] = endlicher_koerper(236887691)\n",
    "K[23] = endlicher_koerper(236887699)\n",
    "K[24] = endlicher_koerper(256203161)\n",
    "K[25] = endlicher_koerper(256203221)\n",
    "K[26] = endlicher_koerper(275604541)\n",
    "K[27] = endlicher_koerper(275604547)\n",
    "K[28] = endlicher_koerper(295075147)\n",
    "K[29] = endlicher_koerper(295075153)\n",
    "K[30] = endlicher_koerper(314606869)\n",
    "K[31] = endlicher_koerper(314606891)\n",
    "K[32] = endlicher_koerper(334214459)\n",
    "K[33] = endlicher_koerper(334214467)\n",
    "K[34] = endlicher_koerper(353868013)\n",
    "K[35] = endlicher_koerper(353868019)\n",
    "K[36] = endlicher_koerper(373587883)\n",
    "K[37] = endlicher_koerper(373587911)\n",
    "K[38] = endlicher_koerper(393342739)\n",
    "K[39] = endlicher_koerper(393342743)\n",
    "K[40] = endlicher_koerper(413158511)\n",
    "K[41] = endlicher_koerper(413158523)\n",
    "K[42] = endlicher_koerper(433024223)\n",
    "K[43] = endlicher_koerper(433024253)\n",
    "K[44] = endlicher_koerper(452930459)\n",
    "K[45] = endlicher_koerper(452930477)\n",
    "K[46] = endlicher_koerper(472882027)\n",
    "K[47] = endlicher_koerper(472882049)\n",
    "K[48] = endlicher_koerper(492876847)\n",
    "K[49] = endlicher_koerper(492876863)\n",
    "K[50] = endlicher_koerper(512927357)\n",
    "K[51] = endlicher_koerper(512927377)\n",
    "K[52] = endlicher_koerper(533000389)\n",
    "K[53] = endlicher_koerper(533000401)\n",
    "K[54] = endlicher_koerper(553105243)\n",
    "K[55] = endlicher_koerper(553105253)\n",
    "K[56] = endlicher_koerper(573259391)\n",
    "K[57] = endlicher_koerper(573259433)\n",
    "K[58] = endlicher_koerper(593441843)\n",
    "K[59] = endlicher_koerper(593441861)\n",
    "K[60] = endlicher_koerper(613651349)\n",
    "K[61] = endlicher_koerper(613651369)\n",
    "K[62] = endlicher_koerper(633910099)\n",
    "K[63] = endlicher_koerper(633910111)\n",
    "K[64] = endlicher_koerper(654188383)\n",
    "K[65] = endlicher_koerper(654188429)\n",
    "K[66] = endlicher_koerper(674506081)\n",
    "K[67] = endlicher_koerper(674506111)\n",
    "K[68] = endlicher_koerper(694847533)\n",
    "K[69] = endlicher_koerper(694847539)\n",
    "K[70] = endlicher_koerper(715225739)\n",
    "K[71] = endlicher_koerper(715225741)\n",
    "K[72] = endlicher_koerper(735632791)\n",
    "K[73] = endlicher_koerper(735632797)\n",
    "K[74] = endlicher_koerper(756065159)\n",
    "K[75] = endlicher_koerper(756065179)\n",
    "K[76] = endlicher_koerper(776531401)\n",
    "K[77] = endlicher_koerper(776531419)\n",
    "K[78] = endlicher_koerper(797003413)\n",
    "K[79] = endlicher_koerper(797003437)\n",
    "K[80] = endlicher_koerper(817504243)\n",
    "K[81] = endlicher_koerper(817504253)\n",
    "K[82] = endlicher_koerper(838041641)\n",
    "K[83] = endlicher_koerper(838041647)\n",
    "K[84] = endlicher_koerper(858599503)\n",
    "K[85] = endlicher_koerper(858599509)\n",
    "K[86] = endlicher_koerper(879190747)\n",
    "K[87] = endlicher_koerper(879190841)\n",
    "K[88] = endlicher_koerper(899809343)\n",
    "K[89] = endlicher_koerper(899809363)\n",
    "K[90] = endlicher_koerper(920419813)\n",
    "K[91] = endlicher_koerper(920419823)\n",
    "K[92] = endlicher_koerper(941083981)\n",
    "K[93] = endlicher_koerper(941083987)\n",
    "K[94] = endlicher_koerper(961748927)\n",
    "K[95] = endlicher_koerper(961748941)\n",
    "K[96] = endlicher_koerper(982451653)\n",
    "K[97] = endlicher_koerper(5915587277)\n",
    "K[98] = endlicher_koerper(48112959837082048697)\n",
    "K[99] = endlicher_koerper(48112959837082048697)\n",
    "K[100] = endlicher_koerper(671998030559713968361666935769)\n",
    "K[101] = endlicher_koerper(671998030559713968361666935769)\n",
    "K[102] = endlicher_koerper(2425967623052370772757633156976982469681)\n",
    "K[103] = endlicher_koerper(2425967623052370772757633156976982469681)\n",
    "K[104] = endlicher_koerper(22953686867719691230002707821868552601124472329079)\n",
    "K[105] = endlicher_koerper(22953686867719691230002707821868552601124472329079)"
   ]
  },
  {
   "cell_type": "code",
   "execution_count": 5,
   "metadata": {},
   "outputs": [],
   "source": [
    "L = [None]*6\n",
    "L[0] = endlicher_koerper(7)\n",
    "L[1] = endlicher_koerper(15485867)\n",
    "L[2] = endlicher_koerper(48112959837082048697)\n",
    "L[3] = endlicher_koerper(671998030559713968361666935769)\n",
    "L[4] = endlicher_koerper(2425967623052370772757633156976982469681)\n",
    "L[5] = endlicher_koerper(22953686867719691230002707821868552601124472329079)\n"
   ]
  },
  {
   "cell_type": "code",
   "execution_count": null,
   "metadata": {},
   "outputs": [],
   "source": []
  },
  {
   "cell_type": "code",
   "execution_count": null,
   "metadata": {},
   "outputs": [],
   "source": [
    "def saveImage(liste, lenListe, timeListe, i):\n",
    "    f = plt.figure()\n",
    "\n",
    "    ax = f.add_axes([0,0,1,1])\n",
    "    plt.xlabel('Lineare Komplexitaet der Sequenz')\n",
    "    plt.ylabel('Zeit in sec')\n",
    "    plt.title('Laufzeitanalyse')\n",
    "    #plt.subplot(222)\n",
    "    ax.plot(liste[1:], timeListe[1:])\n",
    "    name = 'Laufzeit_seqL' + str(i) + '.png'\n",
    "    plt.savefig(name, bbox_inches='tight')\n",
    "    ax.clear()\n",
    "    plt.xlabel('Laenge der Sequenz')\n",
    "    plt.ylabel('Zeit in sec')\n",
    "    plt.title('Laufzeitanalyse')\n",
    "    ax.plot(lenListe[1:], timeListe[1:])\n",
    "    name = 'Laufzeit_seqlen' + str(i) + '.png' \n",
    "    plt.savefig(name, bbox_inches='tight')\n"
   ]
  },
  {
   "cell_type": "code",
   "execution_count": 6,
   "metadata": {},
   "outputs": [],
   "source": [
    "def saveImage(liste, timeListe, i, lable):\n",
    "    f = plt.figure()\n",
    "\n",
    "    ax = f.add_axes([0,0,1,1])\n",
    "    plt.xlabel(lable)\n",
    "    plt.ylabel('Zeit in sec')\n",
    "    plt.title('Laufzeitanalyse')\n",
    "    #plt.subplot(222)\n",
    "    ax.plot(liste[1:], timeListe[1:])\n",
    "    name = 'Laufzeit_seqL' + str(i) + '.png'\n",
    "    plt.savefig(name, bbox_inches='tight')"
   ]
  },
  {
   "cell_type": "code",
   "execution_count": 67,
   "metadata": {},
   "outputs": [
    {
     "name": "stdout",
     "output_type": "stream",
     "text": [
      "Z/7Z\n",
      "Z/15485867Z\n",
      "Z/48112959837082048697Z\n",
      "Z/671998030559713968361666935769Z\n",
      "Z/2425967623052370772757633156976982469681Z\n",
      "Z/22953686867719691230002707821868552601124472329079Z\n",
      "None\n"
     ]
    }
   ],
   "source": [
    "for k in L:\n",
    "    print(k)"
   ]
  },
  {
   "cell_type": "code",
   "execution_count": 63,
   "metadata": {},
   "outputs": [
    {
     "name": "stdout",
     "output_type": "stream",
     "text": [
      "1\n",
      "3\n",
      "5\n",
      "9\n",
      "9\n",
      "12\n",
      "15\n",
      "16\n",
      "17\n",
      "19\n",
      "38\n",
      "59\n",
      "79\n",
      "99\n",
      "120\n",
      "191\n",
      "200\n",
      "210\n",
      "228\n",
      "245\n",
      "264\n",
      "284\n",
      "297\n",
      "309\n",
      "326\n",
      "0\n",
      "1\n",
      "3\n",
      "5\n",
      "9\n",
      "9\n",
      "12\n",
      "15\n",
      "16\n",
      "17\n",
      "19\n",
      "38\n",
      "59\n",
      "79\n",
      "99\n",
      "120\n",
      "191\n",
      "200\n",
      "210\n",
      "228\n",
      "245\n",
      "264\n",
      "284\n",
      "297\n",
      "309\n",
      "326\n",
      "1\n",
      "1\n",
      "3\n",
      "5\n",
      "9\n",
      "9\n",
      "12\n",
      "15\n",
      "16\n",
      "17\n",
      "19\n",
      "38\n",
      "59\n",
      "79\n",
      "99\n",
      "120\n",
      "191\n",
      "200\n",
      "210\n",
      "228\n"
     ]
    },
    {
     "ename": "KeyboardInterrupt",
     "evalue": "",
     "output_type": "error",
     "traceback": [
      "\u001b[0;31m---------------------------------------------------------------------------\u001b[0m",
      "\u001b[0;31mKeyboardInterrupt\u001b[0m                         Traceback (most recent call last)",
      "\u001b[0;32m<ipython-input-63-1bea151c9e82>\u001b[0m in \u001b[0;36m<module>\u001b[0;34m\u001b[0m\n\u001b[1;32m      9\u001b[0m         \u001b[0mprint\u001b[0m\u001b[0;34m(\u001b[0m\u001b[0mlen\u001b[0m\u001b[0;34m(\u001b[0m\u001b[0ms\u001b[0m\u001b[0;34m)\u001b[0m\u001b[0;34m)\u001b[0m\u001b[0;34m\u001b[0m\u001b[0;34m\u001b[0m\u001b[0m\n\u001b[1;32m     10\u001b[0m         \u001b[0;32mfor\u001b[0m \u001b[0mi\u001b[0m \u001b[0;32min\u001b[0m \u001b[0mrange\u001b[0m\u001b[0;34m(\u001b[0m\u001b[0mruns\u001b[0m\u001b[0;34m)\u001b[0m\u001b[0;34m:\u001b[0m\u001b[0;34m\u001b[0m\u001b[0;34m\u001b[0m\u001b[0m\n\u001b[0;32m---> 11\u001b[0;31m             \u001b[0mtemp\u001b[0m \u001b[0;34m=\u001b[0m \u001b[0mLFSR\u001b[0m\u001b[0;34m.\u001b[0m\u001b[0mscalarMassey\u001b[0m\u001b[0;34m(\u001b[0m\u001b[0ms\u001b[0m\u001b[0;34m,\u001b[0m\u001b[0mk\u001b[0m\u001b[0;34m)\u001b[0m\u001b[0;34m\u001b[0m\u001b[0;34m\u001b[0m\u001b[0m\n\u001b[0m\u001b[1;32m     12\u001b[0m             \u001b[0msumme\u001b[0m \u001b[0;34m+=\u001b[0m \u001b[0mtemp\u001b[0m\u001b[0;34m[\u001b[0m\u001b[0;36m0\u001b[0m\u001b[0;34m]\u001b[0m\u001b[0;34m\u001b[0m\u001b[0;34m\u001b[0m\u001b[0m\n\u001b[1;32m     13\u001b[0m         \u001b[0mseqList\u001b[0m\u001b[0;34m.\u001b[0m\u001b[0mappend\u001b[0m\u001b[0;34m(\u001b[0m\u001b[0mtemp\u001b[0m\u001b[0;34m[\u001b[0m\u001b[0;36m1\u001b[0m\u001b[0;34m]\u001b[0m\u001b[0;34m)\u001b[0m\u001b[0;34m\u001b[0m\u001b[0;34m\u001b[0m\u001b[0m\n",
      "\u001b[0;32m~/Documents/Uni/Kryptographie/tocas/Extension/Projekt/Berlekamp_Massey.py\u001b[0m in \u001b[0;36mscalarMassey\u001b[0;34m(seq, K)\u001b[0m\n\u001b[1;32m     91\u001b[0m \u001b[0;34m\u001b[0m\u001b[0m\n\u001b[1;32m     92\u001b[0m             \u001b[0;32melse\u001b[0m\u001b[0;34m:\u001b[0m                 \u001b[0;31m# LFSR zu klein und muss vergroessert werden\u001b[0m\u001b[0;34m\u001b[0m\u001b[0;34m\u001b[0m\u001b[0m\n\u001b[0;32m---> 93\u001b[0;31m                 \u001b[0mT\u001b[0m \u001b[0;34m=\u001b[0m \u001b[0;34m(\u001b[0m\u001b[0md\u001b[0m\u001b[0;34m/\u001b[0m\u001b[0mb\u001b[0m\u001b[0;34m)\u001b[0m\u001b[0;34m.\u001b[0m\u001b[0mwert\u001b[0m \u001b[0;34m*\u001b[0m \u001b[0mP\u001b[0m\u001b[0;34m.\u001b[0m\u001b[0mvariable\u001b[0m\u001b[0;34m**\u001b[0m\u001b[0mm\u001b[0m \u001b[0;34m*\u001b[0m \u001b[0mB\u001b[0m       \u001b[0;31m# Ergenis in T zwischenspeichern\u001b[0m\u001b[0;34m\u001b[0m\u001b[0;34m\u001b[0m\u001b[0m\n\u001b[0m\u001b[1;32m     94\u001b[0m                 \u001b[0mB\u001b[0m \u001b[0;34m=\u001b[0m \u001b[0mC\u001b[0m\u001b[0;34m\u001b[0m\u001b[0;34m\u001b[0m\u001b[0m\n\u001b[1;32m     95\u001b[0m                 \u001b[0mC\u001b[0m \u001b[0;34m=\u001b[0m \u001b[0mC\u001b[0m \u001b[0;34m-\u001b[0m \u001b[0mT\u001b[0m\u001b[0;34m\u001b[0m\u001b[0;34m\u001b[0m\u001b[0m\n",
      "\u001b[0;32m~/Documents/Uni/Kryptographie/tocas/AbstrakteRinge.py\u001b[0m in \u001b[0;36m__mul__\u001b[0;34m(self, other)\u001b[0m\n\u001b[1;32m    228\u001b[0m \u001b[0;34m\u001b[0m\u001b[0m\n\u001b[1;32m    229\u001b[0m         \u001b[0;32mif\u001b[0m \u001b[0mtype\u001b[0m\u001b[0;34m(\u001b[0m\u001b[0mother\u001b[0m\u001b[0;34m)\u001b[0m \u001b[0;34m==\u001b[0m \u001b[0mtype\u001b[0m\u001b[0;34m(\u001b[0m\u001b[0mself\u001b[0m\u001b[0;34m)\u001b[0m\u001b[0;34m:\u001b[0m\u001b[0;34m\u001b[0m\u001b[0;34m\u001b[0m\u001b[0m\n\u001b[0;32m--> 230\u001b[0;31m             \u001b[0;32mreturn\u001b[0m \u001b[0mother\u001b[0m\u001b[0;34m.\u001b[0m\u001b[0m__rmul__\u001b[0m\u001b[0;34m(\u001b[0m\u001b[0mself\u001b[0m\u001b[0;34m)\u001b[0m\u001b[0;34m\u001b[0m\u001b[0;34m\u001b[0m\u001b[0m\n\u001b[0m\u001b[1;32m    231\u001b[0m \u001b[0;34m\u001b[0m\u001b[0m\n\u001b[1;32m    232\u001b[0m \u001b[0;34m\u001b[0m\u001b[0m\n",
      "\u001b[0;32m~/Documents/Uni/Kryptographie/tocas/Polynomringe.py\u001b[0m in \u001b[0;36m__rmul__\u001b[0;34m(self, other)\u001b[0m\n\u001b[1;32m    422\u001b[0m             \u001b[0;32mfor\u001b[0m \u001b[0mi\u001b[0m \u001b[0;32min\u001b[0m \u001b[0mrange\u001b[0m\u001b[0;34m(\u001b[0m\u001b[0;36m0\u001b[0m\u001b[0;34m,\u001b[0m\u001b[0md\u001b[0m\u001b[0;34m+\u001b[0m\u001b[0;36m1\u001b[0m\u001b[0;34m)\u001b[0m\u001b[0;34m:\u001b[0m\u001b[0;34m\u001b[0m\u001b[0;34m\u001b[0m\u001b[0m\n\u001b[1;32m    423\u001b[0m                 \u001b[0mtup\u001b[0m\u001b[0;34m.\u001b[0m\u001b[0mkoeffizienten\u001b[0m\u001b[0;34m[\u001b[0m\u001b[0md\u001b[0m\u001b[0;34m]\u001b[0m \u001b[0;34m=\u001b[0m \u001b[0mtup\u001b[0m\u001b[0;34m.\u001b[0m\u001b[0mkoeffizienten\u001b[0m\u001b[0;34m[\u001b[0m\u001b[0md\u001b[0m\u001b[0;34m]\u001b[0m \u001b[0;34m+\u001b[0m\u001b[0;31m \u001b[0m\u001b[0;31m\\\u001b[0m\u001b[0;34m\u001b[0m\u001b[0;34m\u001b[0m\u001b[0m\n\u001b[0;32m--> 424\u001b[0;31m                            \u001b[0mself\u001b[0m\u001b[0;34m.\u001b[0m\u001b[0mkoeffizient\u001b[0m\u001b[0;34m(\u001b[0m\u001b[0mi\u001b[0m\u001b[0;34m)\u001b[0m \u001b[0;34m*\u001b[0m \u001b[0mother\u001b[0m\u001b[0;34m.\u001b[0m\u001b[0mkoeffizient\u001b[0m\u001b[0;34m(\u001b[0m\u001b[0md\u001b[0m\u001b[0;34m-\u001b[0m\u001b[0mi\u001b[0m\u001b[0;34m)\u001b[0m\u001b[0;34m\u001b[0m\u001b[0;34m\u001b[0m\u001b[0m\n\u001b[0m\u001b[1;32m    425\u001b[0m \u001b[0;34m\u001b[0m\u001b[0m\n\u001b[1;32m    426\u001b[0m         \u001b[0;32mreturn\u001b[0m \u001b[0mPolynomringElement\u001b[0m\u001b[0;34m(\u001b[0m\u001b[0mtup\u001b[0m\u001b[0;34m,\u001b[0m\u001b[0mself\u001b[0m\u001b[0;34m.\u001b[0m\u001b[0mring\u001b[0m\u001b[0;34m)\u001b[0m\u001b[0;34m\u001b[0m\u001b[0;34m\u001b[0m\u001b[0m\n",
      "\u001b[0;32m~/Documents/Uni/Kryptographie/tocas/AbstrakteRinge.py\u001b[0m in \u001b[0;36m__mul__\u001b[0;34m(self, other)\u001b[0m\n\u001b[1;32m    228\u001b[0m \u001b[0;34m\u001b[0m\u001b[0m\n\u001b[1;32m    229\u001b[0m         \u001b[0;32mif\u001b[0m \u001b[0mtype\u001b[0m\u001b[0;34m(\u001b[0m\u001b[0mother\u001b[0m\u001b[0;34m)\u001b[0m \u001b[0;34m==\u001b[0m \u001b[0mtype\u001b[0m\u001b[0;34m(\u001b[0m\u001b[0mself\u001b[0m\u001b[0;34m)\u001b[0m\u001b[0;34m:\u001b[0m\u001b[0;34m\u001b[0m\u001b[0;34m\u001b[0m\u001b[0m\n\u001b[0;32m--> 230\u001b[0;31m             \u001b[0;32mreturn\u001b[0m \u001b[0mother\u001b[0m\u001b[0;34m.\u001b[0m\u001b[0m__rmul__\u001b[0m\u001b[0;34m(\u001b[0m\u001b[0mself\u001b[0m\u001b[0;34m)\u001b[0m\u001b[0;34m\u001b[0m\u001b[0;34m\u001b[0m\u001b[0m\n\u001b[0m\u001b[1;32m    231\u001b[0m \u001b[0;34m\u001b[0m\u001b[0m\n\u001b[1;32m    232\u001b[0m \u001b[0;34m\u001b[0m\u001b[0m\n",
      "\u001b[0;32m~/Documents/Uni/Kryptographie/tocas/GanzzahlRestklassenringe.py\u001b[0m in \u001b[0;36m__rmul__\u001b[0;34m(self, other)\u001b[0m\n\u001b[1;32m    151\u001b[0m             \u001b[0;32mif\u001b[0m \u001b[0mzweiadisch\u001b[0m\u001b[0;34m[\u001b[0m\u001b[0mi\u001b[0m\u001b[0;34m]\u001b[0m \u001b[0;34m==\u001b[0m \u001b[0;34m'1'\u001b[0m\u001b[0;34m:\u001b[0m\u001b[0;34m\u001b[0m\u001b[0;34m\u001b[0m\u001b[0m\n\u001b[1;32m    152\u001b[0m                 \u001b[0mc\u001b[0m \u001b[0;34m=\u001b[0m \u001b[0mc\u001b[0m \u001b[0;34m+\u001b[0m \u001b[0ma\u001b[0m\u001b[0;34m\u001b[0m\u001b[0;34m\u001b[0m\u001b[0m\n\u001b[0;32m--> 153\u001b[0;31m             \u001b[0mc\u001b[0m \u001b[0;34m=\u001b[0m \u001b[0mc\u001b[0m \u001b[0;34m+\u001b[0m \u001b[0mc\u001b[0m\u001b[0;34m\u001b[0m\u001b[0;34m\u001b[0m\u001b[0m\n\u001b[0m\u001b[1;32m    154\u001b[0m \u001b[0;34m\u001b[0m\u001b[0m\n\u001b[1;32m    155\u001b[0m         \u001b[0;31m# Am Ende muss man noch einmal addieren, ohne zu multiplizieren.\u001b[0m\u001b[0;34m\u001b[0m\u001b[0;34m\u001b[0m\u001b[0;34m\u001b[0m\u001b[0m\n",
      "\u001b[0;32m~/Documents/Uni/Kryptographie/tocas/AbstrakteRinge.py\u001b[0m in \u001b[0;36m__add__\u001b[0;34m(self, other)\u001b[0m\n\u001b[1;32m    160\u001b[0m        koennen.\"\"\"\n\u001b[1;32m    161\u001b[0m \u001b[0;34m\u001b[0m\u001b[0m\n\u001b[0;32m--> 162\u001b[0;31m         \u001b[0;32mreturn\u001b[0m \u001b[0mself\u001b[0m\u001b[0;34m.\u001b[0m\u001b[0m__radd__\u001b[0m\u001b[0;34m(\u001b[0m\u001b[0mother\u001b[0m\u001b[0;34m)\u001b[0m\u001b[0;34m\u001b[0m\u001b[0;34m\u001b[0m\u001b[0m\n\u001b[0m\u001b[1;32m    163\u001b[0m \u001b[0;34m\u001b[0m\u001b[0m\n\u001b[1;32m    164\u001b[0m \u001b[0;34m\u001b[0m\u001b[0m\n",
      "\u001b[0;32m~/Documents/Uni/Kryptographie/tocas/GanzzahlRestklassenringe.py\u001b[0m in \u001b[0;36m__radd__\u001b[0;34m(self, other)\u001b[0m\n\u001b[1;32m    106\u001b[0m     \u001b[0;32mdef\u001b[0m \u001b[0m__radd__\u001b[0m\u001b[0;34m(\u001b[0m\u001b[0mself\u001b[0m\u001b[0;34m,\u001b[0m\u001b[0mother\u001b[0m\u001b[0;34m)\u001b[0m\u001b[0;34m:\u001b[0m\u001b[0;34m\u001b[0m\u001b[0;34m\u001b[0m\u001b[0m\n\u001b[1;32m    107\u001b[0m \u001b[0;34m\u001b[0m\u001b[0m\n\u001b[0;32m--> 108\u001b[0;31m         \u001b[0msuper\u001b[0m\u001b[0;34m(\u001b[0m\u001b[0;34m)\u001b[0m\u001b[0;34m.\u001b[0m\u001b[0m__radd__\u001b[0m\u001b[0;34m(\u001b[0m\u001b[0mother\u001b[0m\u001b[0;34m)\u001b[0m\u001b[0;34m\u001b[0m\u001b[0;34m\u001b[0m\u001b[0m\n\u001b[0m\u001b[1;32m    109\u001b[0m \u001b[0;34m\u001b[0m\u001b[0m\n\u001b[1;32m    110\u001b[0m         \u001b[0;32mif\u001b[0m \u001b[0mtype\u001b[0m\u001b[0;34m(\u001b[0m\u001b[0mother\u001b[0m\u001b[0;34m)\u001b[0m \u001b[0;34m==\u001b[0m \u001b[0mint\u001b[0m\u001b[0;34m:\u001b[0m\u001b[0;34m\u001b[0m\u001b[0;34m\u001b[0m\u001b[0m\n",
      "\u001b[0;32m~/Documents/Uni/Kryptographie/tocas/AbstrakteRinge.py\u001b[0m in \u001b[0;36m__radd__\u001b[0;34m(self, other)\u001b[0m\n\u001b[1;32m    169\u001b[0m         Dies soll weiter implementiert werden.\"\"\"\n\u001b[1;32m    170\u001b[0m \u001b[0;34m\u001b[0m\u001b[0m\n\u001b[0;32m--> 171\u001b[0;31m         \u001b[0;32mif\u001b[0m \u001b[0mtype\u001b[0m\u001b[0;34m(\u001b[0m\u001b[0mother\u001b[0m\u001b[0;34m)\u001b[0m \u001b[0;34m==\u001b[0m \u001b[0mint\u001b[0m\u001b[0;34m:\u001b[0m\u001b[0;34m\u001b[0m\u001b[0;34m\u001b[0m\u001b[0m\n\u001b[0m\u001b[1;32m    172\u001b[0m             \u001b[0;32mreturn\u001b[0m \u001b[0;32mTrue\u001b[0m\u001b[0;34m\u001b[0m\u001b[0;34m\u001b[0m\u001b[0m\n\u001b[1;32m    173\u001b[0m \u001b[0;34m\u001b[0m\u001b[0m\n",
      "\u001b[0;31mKeyboardInterrupt\u001b[0m: "
     ]
    },
    {
     "data": {
      "image/png": "[encoded data removed]",
      "text/plain": [
       "<Figure size 432x288 with 1 Axes>"
      ]
     },
     "metadata": {
      "needs_background": "light"
     },
     "output_type": "display_data"
    },
    {
     "data": {
      "image/png": "[encoded data removed]",
      "text/plain": [
       "<Figure size 432x288 with 1 Axes>"
      ]
     },
     "metadata": {
      "needs_background": "light"
     },
     "output_type": "display_data"
    }
   ],
   "source": [
    "runs = 1\n",
    "seqList = [None]\n",
    "seqLenList = [None]\n",
    "timeList = [None]\n",
    "summe = 0\n",
    "imgCounter = 0\n",
    "for k in L[0:6]:\n",
    "    for s in seq[10:11]:\n",
    "        print(len(s))\n",
    "        for i in range(runs):\n",
    "            temp = LFSR.scalarMassey(s,k)\n",
    "            summe += temp[0]\n",
    "        seqList.append(temp[1])\n",
    "        seqLenList.append(len(s))\n",
    "        timeList.append(summe/runs)\n",
    "        summe = 0\n",
    "    saveImage(seqList, seqLenList, timeList, imgCounter)\n",
    "    print(imgCounter)\n",
    "    imgCounter += 1\n",
    "    seqList.clear()\n",
    "    timeList.clear()\n",
    "    seqLenList.clear()"
   ]
  },
  {
   "cell_type": "code",
   "execution_count": 9,
   "metadata": {},
   "outputs": [
    {
     "data": {
      "image/png": "[encoded data removed]",
      "text/plain": [
       "<Figure size 432x288 with 1 Axes>"
      ]
     },
     "metadata": {
      "needs_background": "light"
     },
     "output_type": "display_data"
    }
   ],
   "source": [
    "primList = [None]\n",
    "timeList1 = [None]\n",
    "summe = 0\n",
    "runs = 10\n",
    "for koerper in K[:97:2]:\n",
    "    for i in range(runs):\n",
    "        temp = LFSR.scalarMassey(seq[11],koerper)\n",
    "        summe += temp[0]\n",
    "    primList.append(temp[1])\n",
    "    timeList1.append(summe/runs)\n",
    "    summe = 0\n",
    "saveImage(primList, timeList1, 0, 'Wert des Modulus')"
   ]
  },
  {
   "cell_type": "code",
   "execution_count": 79,
   "metadata": {},
   "outputs": [
    {
     "data": {
      "text/plain": [
       "(1.6084394454956055, 50)"
      ]
     },
     "execution_count": 79,
     "metadata": {},
     "output_type": "execute_result"
    }
   ],
   "source": []
  },
  {
   "cell_type": "code",
   "execution_count": null,
   "metadata": {},
   "outputs": [],
   "source": []
  },
  {
   "cell_type": "code",
   "execution_count": 9,
   "metadata": {},
   "outputs": [
    {
     "data": {
      "text/plain": [
       "[]"
      ]
     },
     "execution_count": 9,
     "metadata": {},
     "output_type": "execute_result"
    }
   ],
   "source": []
  },
  {
   "cell_type": "code",
   "execution_count": 6,
   "metadata": {},
   "outputs": [
    {
     "data": {
      "text/plain": [
       "'Laufzeit_seq1.png'"
      ]
     },
     "execution_count": 6,
     "metadata": {},
     "output_type": "execute_result"
    }
   ],
   "source": []
  },
  {
   "cell_type": "code",
   "execution_count": null,
   "metadata": {},
   "outputs": [],
   "source": []
  }
 ],
 "metadata": {
  "kernelspec": {
   "display_name": "Python 3",
   "language": "python",
   "name": "python3"
  },
  "language_info": {
   "codemirror_mode": {
    "name": "ipython",
    "version": 3
   },
   "file_extension": ".py",
   "mimetype": "text/x-python",
   "name": "python",
   "nbconvert_exporter": "python",
   "pygments_lexer": "ipython3",
   "version": "3.6.8"
  }
 },
 "nbformat": 4,
 "nbformat_minor": 2
}

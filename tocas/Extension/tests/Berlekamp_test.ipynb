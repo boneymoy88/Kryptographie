{
 "cells": [
  {
   "cell_type": "code",
   "execution_count": 1,
   "metadata": {},
   "outputs": [],
   "source": [
    "# -*- coding=utf-8 -*-\n",
    "import project_path\n",
    "from Tocas import Polynomring, PolynomringElement, Z, GanzzahlRestklassenring, GanzzahlRestklassenringElement\n",
    "from Extension.Projekt import Berlekamp_Massey as LFSR\n",
    "from Extension import endlicher_koerper\n",
    "from Extension.PolynomRestklassenring import PolynomRestklassenring, PolynomRestklassenringElement\n",
    "from Extension.endlicher_koerper import endlicher_koerper\n",
    "from Extension.Bruchzahlring import Q, BruchzahlringElement\n",
    "\n",
    "R_X = Polynomring(Z)\n"
   ]
  },
  {
   "cell_type": "code",
   "execution_count": 2,
   "metadata": {
    "scrolled": true
   },
   "outputs": [
    {
     "name": "stdout",
     "output_type": "stream",
     "text": [
      "1\n",
      "1*x + 1*x^3  in Z[x]\n",
      "x^3 + 1\n",
      "1 + 1*x^3  in Z[x]\n",
      "x^4 + x^3 + 1\n",
      "1 + 1*x^3 + 1*x^4  in Z[x]\n",
      "x^5 + x^4 + x^3 + 1\n",
      "1 + 1*x^3 + 1*x^4 + 1*x^5  in Z[x]\n",
      "x^5 + x^4 + x^3 + 1\n"
     ]
    }
   ],
   "source": [
    "s = 0,0,1,0,0,0,0,0,1,1,0\n",
    "#print(LFSR.Berlekamp_Massey_algorithm(s))\n",
    "C = PolynomringElement([0,1,0,1],R_X)\n",
    "D = PolynomringElement([1,0,0,1],R_X)\n",
    "\n",
    "print(print_poly(set([0])))\n",
    "print(C)\n",
    "print(print_poly(set([3,0])))\n",
    "print(D)\n",
    "print(print_poly(set([3,0])^set([4])))\n",
    "print(D + R_X.variable**4)\n",
    "print(print_poly(set([3,0])^set([4])^set([5])))\n",
    "print(D + R_X.variable**4 + R_X.variable**5)\n",
    "print(print_poly(set([3,0]) ^ {4} ^ {5}))"
   ]
  },
  {
   "cell_type": "code",
   "execution_count": 3,
   "metadata": {},
   "outputs": [
    {
     "data": {
      "text/plain": [
       "1"
      ]
     },
     "execution_count": 3,
     "metadata": {},
     "output_type": "execute_result"
    }
   ],
   "source": [
    "len(set([4]))"
   ]
  },
  {
   "cell_type": "code",
   "execution_count": 4,
   "metadata": {
    "scrolled": false
   },
   "outputs": [],
   "source": [
    "s = 0,0,1,2,0,0,5,1,1,0\n",
    "#print(LFSR.Berlekamp_Massey_algorithm_old(s)) \n",
    "#print(LFSR.Berlekamp_Massey_algorithm_binary(s))"
   ]
  },
  {
   "cell_type": "code",
   "execution_count": 5,
   "metadata": {},
   "outputs": [
    {
     "name": "stdout",
     "output_type": "stream",
     "text": [
      "[1, 0, 0, 1]\n"
     ]
    }
   ],
   "source": [
    "k = 2\n",
    "var = [0] * (k + 2)\n",
    "var[k+1] = 1\n",
    "var[0] = 1\n",
    "print(var)"
   ]
  },
  {
   "cell_type": "code",
   "execution_count": 6,
   "metadata": {},
   "outputs": [
    {
     "data": {
      "text/plain": [
       "4-er Tupel von Elementen aus dem Ring Z: \n",
       "\n",
       "(1,0,0,1)"
      ]
     },
     "execution_count": 6,
     "metadata": {},
     "output_type": "execute_result"
    }
   ],
   "source": [
    "D.koeffizienten"
   ]
  },
  {
   "cell_type": "code",
   "execution_count": 7,
   "metadata": {},
   "outputs": [
    {
     "name": "stdout",
     "output_type": "stream",
     "text": [
      "4\n",
      "1\n",
      "0\n",
      "0\n",
      "1\n",
      "4\n"
     ]
    }
   ],
   "source": [
    "d = 0\n",
    "print(D.koeffizienten.laenge)\n",
    "for i in range(0, D.koeffizienten.laenge):\n",
    "    print(D.koeffizienten[i])\n",
    "    d += 1\n",
    "print(d)"
   ]
  },
  {
   "cell_type": "code",
   "execution_count": 8,
   "metadata": {},
   "outputs": [
    {
     "data": {
      "text/plain": [
       "[0, 1, 0, 1]"
      ]
     },
     "execution_count": 8,
     "metadata": {},
     "output_type": "execute_result"
    }
   ],
   "source": [
    "[C.koeffizienten[i] for i in range(0, C.koeffizienten.laenge)]"
   ]
  },
  {
   "cell_type": "code",
   "execution_count": 9,
   "metadata": {},
   "outputs": [
    {
     "name": "stdout",
     "output_type": "stream",
     "text": [
      "True\n"
     ]
    }
   ],
   "source": [
    "F = GanzzahlRestklassenring(7)\n",
    "FX = Polynomring(F)\n",
    "g = PolynomringElement([1,0,1], FX)\n",
    "FX_g = PolynomRestklassenring(g)\n",
    "sequenz = [4,4,4,4,4,4,4,4,4,4,4,4]\n",
    "sequenz = [0,1,0,1,1,1,0]\n",
    "print(F.ist_endlicher_koerper())\n",
    "#LFSR.berlekamp_massey(sequenz,FX_g)\n",
    "#LFSR.Berlekamp_Massey_algorithm_binary(sequenz)"
   ]
  },
  {
   "cell_type": "code",
   "execution_count": 10,
   "metadata": {},
   "outputs": [
    {
     "name": "stdout",
     "output_type": "stream",
     "text": [
      "[1] in Z/7Z[x]/([1] + [1]*x^2)\n",
      "[1]*x in Z/7Z[x]/([1] + [1]*x^2)\n"
     ]
    },
    {
     "data": {
      "text/plain": [
       "[1]*x in Z/7Z[x]/([1] + [1]*x^2)"
      ]
     },
     "execution_count": 10,
     "metadata": {},
     "output_type": "execute_result"
    }
   ],
   "source": [
    "C = PolynomRestklassenringElement([1],FX_g)\n",
    "B = PolynomRestklassenringElement([1],FX_g)\n",
    "a = FX_g.modulus.ring.variable\n",
    "print(C * B)\n",
    "print(B * FX_g.erzeuger)\n",
    "FX_g.erzeuger"
   ]
  },
  {
   "cell_type": "code",
   "execution_count": 19,
   "metadata": {},
   "outputs": [],
   "source": [
    "\n",
    "\n",
    "K = [None] * 97\n",
    "\n",
    "K[0] = endlicher_koerper(15485867)\n",
    "K[1] = endlicher_koerper(32452867)\n",
    "K[2] = endlicher_koerper(49979687)\n",
    "K[3] = endlicher_koerper(49979693)\n",
    "K[4] = endlicher_koerper(67867967)\n",
    "K[5] = endlicher_koerper(67867979)\n",
    "K[6] = endlicher_koerper(86028121)\n",
    "K[7] = endlicher_koerper(86028157)\n",
    "K[8] = endlicher_koerper(104395301)\n",
    "K[9] = endlicher_koerper(104395303)\n",
    "K[10] = endlicher_koerper(122949823)\n",
    "K[11] = endlicher_koerper(122949829)\n",
    "K[12] = endlicher_koerper(141650939)\n",
    "K[13] = endlicher_koerper(141650963)\n",
    "K[14] = endlicher_koerper(160481183)\n",
    "K[15] = endlicher_koerper(160481219)\n",
    "K[16] = endlicher_koerper(179424673)\n",
    "K[17] = endlicher_koerper(179424691)\n",
    "K[18] = endlicher_koerper(198491317)\n",
    "K[19] = endlicher_koerper(198491329)\n",
    "K[20] = endlicher_koerper(217645177)\n",
    "K[21] = endlicher_koerper(217645199)\n",
    "K[22] = endlicher_koerper(236887691)\n",
    "K[23] = endlicher_koerper(236887699)\n",
    "K[24] = endlicher_koerper(256203161)\n",
    "K[25] = endlicher_koerper(256203221)\n",
    "K[26] = endlicher_koerper(275604541)\n",
    "K[27] = endlicher_koerper(275604547)\n",
    "K[28] = endlicher_koerper(295075147)\n",
    "K[29] = endlicher_koerper(295075153)\n",
    "K[30] = endlicher_koerper(314606869)\n",
    "K[31] = endlicher_koerper(314606891)\n",
    "K[32] = endlicher_koerper(334214459)\n",
    "K[33] = endlicher_koerper(334214467)\n",
    "K[34] = endlicher_koerper(353868013)\n",
    "K[35] = endlicher_koerper(353868019)\n",
    "K[36] = endlicher_koerper(373587883)\n",
    "K[37] = endlicher_koerper(373587911)\n",
    "K[38] = endlicher_koerper(393342739)\n",
    "K[39] = endlicher_koerper(393342743)\n",
    "K[40] = endlicher_koerper(413158511)\n",
    "K[41] = endlicher_koerper(413158523)\n",
    "K[42] = endlicher_koerper(433024223)\n",
    "K[43] = endlicher_koerper(433024253)\n",
    "K[44] = endlicher_koerper(452930459)\n",
    "K[45] = endlicher_koerper(452930477)\n",
    "K[46] = endlicher_koerper(472882027)\n",
    "K[47] = endlicher_koerper(472882049)\n",
    "K[48] = endlicher_koerper(492876847)\n",
    "K[49] = endlicher_koerper(492876863)\n",
    "K[50] = endlicher_koerper(512927357)\n",
    "K[51] = endlicher_koerper(512927377)\n",
    "K[52] = endlicher_koerper(533000389)\n",
    "K[53] = endlicher_koerper(533000401)\n",
    "K[54] = endlicher_koerper(553105243)\n",
    "K[55] = endlicher_koerper(553105253)\n",
    "K[56] = endlicher_koerper(573259391)\n",
    "K[57] = endlicher_koerper(573259433)\n",
    "K[58] = endlicher_koerper(593441843)\n",
    "K[59] = endlicher_koerper(593441861)\n",
    "K[60] = endlicher_koerper(613651349)\n",
    "K[61] = endlicher_koerper(613651369)\n",
    "K[62] = endlicher_koerper(633910099)\n",
    "K[63] = endlicher_koerper(633910111)\n",
    "K[64] = endlicher_koerper(654188383)\n",
    "K[65] = endlicher_koerper(654188429)\n",
    "K[66] = endlicher_koerper(674506081)\n",
    "K[67] = endlicher_koerper(674506111)\n",
    "K[68] = endlicher_koerper(694847533)\n",
    "K[69] = endlicher_koerper(694847539)\n",
    "K[70] = endlicher_koerper(715225739)\n",
    "K[71] = endlicher_koerper(715225741)\n",
    "K[72] = endlicher_koerper(735632791)\n",
    "K[73] = endlicher_koerper(735632797)\n",
    "K[74] = endlicher_koerper(756065159)\n",
    "K[75] = endlicher_koerper(756065179)\n",
    "K[76] = endlicher_koerper(776531401)\n",
    "K[77] = endlicher_koerper(776531419)\n",
    "K[78] = endlicher_koerper(797003413)\n",
    "K[79] = endlicher_koerper(797003437)\n",
    "K[80] = endlicher_koerper(817504243)\n",
    "K[81] = endlicher_koerper(817504253)\n",
    "K[82] = endlicher_koerper(838041641)\n",
    "K[83] = endlicher_koerper(838041647)\n",
    "K[84] = endlicher_koerper(858599503)\n",
    "K[85] = endlicher_koerper(858599509)\n",
    "K[86] = endlicher_koerper(879190747)\n",
    "K[87] = endlicher_koerper(879190841)\n",
    "K[88] = endlicher_koerper(899809343)\n",
    "K[89] = endlicher_koerper(899809363)\n",
    "K[90] = endlicher_koerper(920419813)\n",
    "K[91] = endlicher_koerper(920419823)\n",
    "K[92] = endlicher_koerper(941083981)\n",
    "K[93] = endlicher_koerper(941083987)\n",
    "K[94] = endlicher_koerper(961748927)\n",
    "K[95] = endlicher_koerper(961748941)\n",
    "K[96] = endlicher_koerper(982451653)\n",
    "\n",
    "\n",
    "seq = [1, 2, 3, 2, 3, 12, 10, 4, 1, 2, 5, 5, 34, 24, 26, 41, 4, 6, 5, 1, 345, 6345, 756, 745, 2234, 675, 345, 2345, 6, 4, 345, 2345, 6, 345]\n",
    "\n",
    "primList = [None]\n",
    "timeList = [None]\n",
    "summe = 0\n",
    "for koerper in K[::2]:\n",
    "    for i in range(50):\n",
    "        temp = LFSR.scalarMassey(seq,koerper)\n",
    "        summe += temp[0]\n",
    "    primList.append(temp[1])\n",
    "    timeList.append(summe/50)\n",
    "    summe = 0"
   ]
  },
  {
   "cell_type": "code",
   "execution_count": 20,
   "metadata": {},
   "outputs": [
    {
     "data": {
      "text/plain": [
       "[<matplotlib.lines.Line2D at 0x7f06749ff438>]"
      ]
     },
     "execution_count": 20,
     "metadata": {},
     "output_type": "execute_result"
    },
    {
     "data": {
      "image/png": "[encoded data removed]",
      "text/plain": [
       "<Figure size 432x288 with 1 Axes>"
      ]
     },
     "metadata": {
      "needs_background": "light"
     },
     "output_type": "display_data"
    }
   ],
   "source": [
    "from matplotlib import pyplot as plt\n",
    "fig = plt.figure()\n",
    "ax = fig.add_axes([0,0,1,1])\n",
    "ax.plot(primList, timeList)\n"
   ]
  },
  {
   "cell_type": "code",
   "execution_count": 18,
   "metadata": {},
   "outputs": [
    {
     "data": {
      "text/plain": [
       "(0.8406813144683838, 373587883)"
      ]
     },
     "execution_count": 18,
     "metadata": {},
     "output_type": "execute_result"
    }
   ],
   "source": [
    "seq = [1, 2, 3, 2, 3, 12, 10, 4, 1, 2, 5, 5, 34, 24, 26, 41, 4, 6, 5, 1, 345, 6345, 756, 745, 2234, 675, 345, 2345, 6, 4, 345, 2345, 6, 345]\n",
    "\n",
    "LFSR.scalarMassey(seq, endlicher_koerper(373587883))\n"
   ]
  },
  {
   "cell_type": "code",
   "execution_count": 10,
   "metadata": {},
   "outputs": [
    {
     "data": {
      "text/plain": [
       "GanzzahlRestklassenringe.GanzzahlRestklassenring"
      ]
     },
     "execution_count": 10,
     "metadata": {},
     "output_type": "execute_result"
    }
   ],
   "source": [
    "type(endlicher_koerper(7))"
   ]
  },
  {
   "cell_type": "code",
   "execution_count": null,
   "metadata": {},
   "outputs": [],
   "source": []
  }
 ],
 "metadata": {
  "kernelspec": {
   "display_name": "Python 3",
   "language": "python",
   "name": "python3"
  },
  "language_info": {
   "codemirror_mode": {
    "name": "ipython",
    "version": 3
   },
   "file_extension": ".py",
   "mimetype": "text/x-python",
   "name": "python",
   "nbconvert_exporter": "python",
   "pygments_lexer": "ipython3",
   "version": "3.7.3"
  }
 },
 "nbformat": 4,
 "nbformat_minor": 2
}

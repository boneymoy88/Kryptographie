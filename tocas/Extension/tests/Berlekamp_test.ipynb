{
 "cells": [
  {
   "cell_type": "code",
   "execution_count": 11,
   "metadata": {},
   "outputs": [],
   "source": [
    "# -*- coding=utf-8 -*-\n",
    "import project_path\n",
    "from Tocas import Polynomring, PolynomringElement, Z, GanzzahlRestklassenring, GanzzahlRestklassenringElement\n",
    "from Extension.Projekt import Berlekamp_Massey as LFSR\n",
    "from Extension import endlicher_koerper\n",
    "from Extension.PolynomRestklassenring import PolynomRestklassenring, PolynomRestklassenringElement\n",
    "from Extension.endlicher_koerper import endlicher_koerper\n",
    "from Extension.Bruchzahlring import Q, BruchzahlringElement\n",
    "\n",
    "R_X = Polynomring(Z)\n"
   ]
  },
  {
   "cell_type": "code",
   "execution_count": 12,
   "metadata": {},
   "outputs": [
    {
     "data": {
      "text/plain": [
       "(0.8537857532501221, 198491317)"
      ]
     },
     "execution_count": 12,
     "metadata": {},
     "output_type": "execute_result"
    }
   ],
   "source": [
    "seq = [1, 2, 3, 2, 3, 12, 10, 4, 1, 2, 5, 5, 34, 24, 26, 41, 4, 6, 5, 1, 345, 6345, 756, 745, 2234, 675, 345, 2345, 6, 4, 345, 2345, 6, 345]\n",
    "\n",
    "LFSR.scalarMassey(seq, endlicher_koerper(198491317))"
   ]
  },
  {
   "cell_type": "code",
   "execution_count": 3,
   "metadata": {},
   "outputs": [
    {
     "name": "stdout",
     "output_type": "stream",
     "text": [
      "[3]  in Z/7Z\n",
      "[3] + [3]*x^3 + [3]*x^5 + [3]*x^6  in Z/7Z[x]\n"
     ]
    },
    {
     "ename": "AttributeError",
     "evalue": "module 'Extension.Projekt.Berlekamp_Massey' has no attribute 'skalarPolyMultiplikation'",
     "output_type": "error",
     "traceback": [
      "\u001b[0;31m---------------------------------------------------------------------------\u001b[0m",
      "\u001b[0;31mAttributeError\u001b[0m                            Traceback (most recent call last)",
      "\u001b[0;32m<ipython-input-3-383a97dd3a1e>\u001b[0m in \u001b[0;36m<module>\u001b[0;34m\u001b[0m\n\u001b[1;32m      6\u001b[0m \u001b[0mpol\u001b[0m \u001b[0;34m=\u001b[0m \u001b[0mPolynomringElement\u001b[0m\u001b[0;34m(\u001b[0m\u001b[0;34m[\u001b[0m\u001b[0;36m1\u001b[0m\u001b[0;34m,\u001b[0m\u001b[0;36m0\u001b[0m\u001b[0;34m,\u001b[0m\u001b[0;36m0\u001b[0m\u001b[0;34m,\u001b[0m\u001b[0;36m1\u001b[0m\u001b[0;34m,\u001b[0m\u001b[0;36m0\u001b[0m\u001b[0;34m,\u001b[0m\u001b[0;36m1\u001b[0m\u001b[0;34m,\u001b[0m\u001b[0;36m1\u001b[0m\u001b[0;34m]\u001b[0m\u001b[0;34m,\u001b[0m \u001b[0mPl\u001b[0m\u001b[0;34m)\u001b[0m\u001b[0;34m\u001b[0m\u001b[0;34m\u001b[0m\u001b[0m\n\u001b[1;32m      7\u001b[0m \u001b[0mprint\u001b[0m\u001b[0;34m(\u001b[0m\u001b[0mpol\u001b[0m \u001b[0;34m*\u001b[0m \u001b[0mx\u001b[0m\u001b[0;34m.\u001b[0m\u001b[0mwert\u001b[0m\u001b[0;34m)\u001b[0m\u001b[0;34m\u001b[0m\u001b[0;34m\u001b[0m\u001b[0m\n\u001b[0;32m----> 8\u001b[0;31m \u001b[0mprint\u001b[0m\u001b[0;34m(\u001b[0m\u001b[0mLFSR\u001b[0m\u001b[0;34m.\u001b[0m\u001b[0mskalarPolyMultiplikation\u001b[0m\u001b[0;34m(\u001b[0m\u001b[0mpol\u001b[0m\u001b[0;34m,\u001b[0m\u001b[0mx\u001b[0m\u001b[0;34m)\u001b[0m\u001b[0;34m)\u001b[0m\u001b[0;34m\u001b[0m\u001b[0;34m\u001b[0m\u001b[0m\n\u001b[0m",
      "\u001b[0;31mAttributeError\u001b[0m: module 'Extension.Projekt.Berlekamp_Massey' has no attribute 'skalarPolyMultiplikation'"
     ]
    }
   ],
   "source": []
  },
  {
   "cell_type": "code",
   "execution_count": 33,
   "metadata": {},
   "outputs": [],
   "source": [
    "\n",
    "\n",
    "K = [None] * 106\n",
    "J = [None] * 5\n",
    "K[0] = endlicher_koerper(15485867)\n",
    "K[1] = endlicher_koerper(32452867)\n",
    "K[2] = endlicher_koerper(49979687)\n",
    "K[3] = endlicher_koerper(49979693)\n",
    "K[4] = endlicher_koerper(67867967)\n",
    "K[5] = endlicher_koerper(67867979)\n",
    "K[6] = endlicher_koerper(86028121)\n",
    "K[7] = endlicher_koerper(86028157)\n",
    "K[8] = endlicher_koerper(104395301)\n",
    "K[9] = endlicher_koerper(104395303)\n",
    "K[10] = endlicher_koerper(122949823)\n",
    "K[11] = endlicher_koerper(122949829)\n",
    "K[12] = endlicher_koerper(141650939)\n",
    "K[13] = endlicher_koerper(141650963)\n",
    "K[14] = endlicher_koerper(160481183)\n",
    "K[15] = endlicher_koerper(160481219)\n",
    "K[16] = endlicher_koerper(179424673)\n",
    "K[17] = endlicher_koerper(179424691)\n",
    "K[18] = endlicher_koerper(198491317)\n",
    "K[19] = endlicher_koerper(198491329)\n",
    "K[20] = endlicher_koerper(217645177)\n",
    "K[21] = endlicher_koerper(217645199)\n",
    "K[22] = endlicher_koerper(236887691)\n",
    "K[23] = endlicher_koerper(236887699)\n",
    "K[24] = endlicher_koerper(256203161)\n",
    "K[25] = endlicher_koerper(256203221)\n",
    "K[26] = endlicher_koerper(275604541)\n",
    "K[27] = endlicher_koerper(275604547)\n",
    "K[28] = endlicher_koerper(295075147)\n",
    "K[29] = endlicher_koerper(295075153)\n",
    "K[30] = endlicher_koerper(314606869)\n",
    "K[31] = endlicher_koerper(314606891)\n",
    "K[32] = endlicher_koerper(334214459)\n",
    "K[33] = endlicher_koerper(334214467)\n",
    "K[34] = endlicher_koerper(353868013)\n",
    "K[35] = endlicher_koerper(353868019)\n",
    "K[36] = endlicher_koerper(373587883)\n",
    "K[37] = endlicher_koerper(373587911)\n",
    "K[38] = endlicher_koerper(393342739)\n",
    "K[39] = endlicher_koerper(393342743)\n",
    "K[40] = endlicher_koerper(413158511)\n",
    "K[41] = endlicher_koerper(413158523)\n",
    "K[42] = endlicher_koerper(433024223)\n",
    "K[43] = endlicher_koerper(433024253)\n",
    "K[44] = endlicher_koerper(452930459)\n",
    "K[45] = endlicher_koerper(452930477)\n",
    "K[46] = endlicher_koerper(472882027)\n",
    "K[47] = endlicher_koerper(472882049)\n",
    "K[48] = endlicher_koerper(492876847)\n",
    "K[49] = endlicher_koerper(492876863)\n",
    "K[50] = endlicher_koerper(512927357)\n",
    "K[51] = endlicher_koerper(512927377)\n",
    "K[52] = endlicher_koerper(533000389)\n",
    "K[53] = endlicher_koerper(533000401)\n",
    "K[54] = endlicher_koerper(553105243)\n",
    "K[55] = endlicher_koerper(553105253)\n",
    "K[56] = endlicher_koerper(573259391)\n",
    "K[57] = endlicher_koerper(573259433)\n",
    "K[58] = endlicher_koerper(593441843)\n",
    "K[59] = endlicher_koerper(593441861)\n",
    "K[60] = endlicher_koerper(613651349)\n",
    "K[61] = endlicher_koerper(613651369)\n",
    "K[62] = endlicher_koerper(633910099)\n",
    "K[63] = endlicher_koerper(633910111)\n",
    "K[64] = endlicher_koerper(654188383)\n",
    "K[65] = endlicher_koerper(654188429)\n",
    "K[66] = endlicher_koerper(674506081)\n",
    "K[67] = endlicher_koerper(674506111)\n",
    "K[68] = endlicher_koerper(694847533)\n",
    "K[69] = endlicher_koerper(694847539)\n",
    "K[70] = endlicher_koerper(715225739)\n",
    "K[71] = endlicher_koerper(715225741)\n",
    "K[72] = endlicher_koerper(735632791)\n",
    "K[73] = endlicher_koerper(735632797)\n",
    "K[74] = endlicher_koerper(756065159)\n",
    "K[75] = endlicher_koerper(756065179)\n",
    "K[76] = endlicher_koerper(776531401)\n",
    "K[77] = endlicher_koerper(776531419)\n",
    "K[78] = endlicher_koerper(797003413)\n",
    "K[79] = endlicher_koerper(797003437)\n",
    "K[80] = endlicher_koerper(817504243)\n",
    "K[81] = endlicher_koerper(817504253)\n",
    "K[82] = endlicher_koerper(838041641)\n",
    "K[83] = endlicher_koerper(838041647)\n",
    "K[84] = endlicher_koerper(858599503)\n",
    "K[85] = endlicher_koerper(858599509)\n",
    "K[86] = endlicher_koerper(879190747)\n",
    "K[87] = endlicher_koerper(879190841)\n",
    "K[88] = endlicher_koerper(899809343)\n",
    "K[89] = endlicher_koerper(899809363)\n",
    "K[90] = endlicher_koerper(920419813)\n",
    "K[91] = endlicher_koerper(920419823)\n",
    "K[92] = endlicher_koerper(941083981)\n",
    "K[93] = endlicher_koerper(941083987)\n",
    "K[94] = endlicher_koerper(961748927)\n",
    "K[95] = endlicher_koerper(961748941)\n",
    "K[96] = endlicher_koerper(982451653)\n",
    "K[97] = endlicher_koerper(5915587277)\n",
    "K[98] = endlicher_koerper(48112959837082048697)\n",
    "K[99] = endlicher_koerper(48112959837082048697)\n",
    "K[100] = endlicher_koerper(671998030559713968361666935769)\n",
    "K[101] = endlicher_koerper(671998030559713968361666935769)\n",
    "K[102] = endlicher_koerper(2425967623052370772757633156976982469681)\n",
    "K[103] = endlicher_koerper(2425967623052370772757633156976982469681)\n",
    "K[104] = endlicher_koerper(22953686867719691230002707821868552601124472329079)\n",
    "K[105] = endlicher_koerper(22953686867719691230002707821868552601124472329079)\n",
    "\n",
    "\n",
    "seq = [1, 2, 3, 2, 3, 12, 10, 4, 1, 2, 5, 5, 34, 24, 26, 41, 4, 6, 5, 1, 345, 6345, 756, 745, 2234, 675, 345, 2345, 6, 4, 345, 2345, 6, 345]\n",
    "\n",
    "primList = [None]\n",
    "timeList = [None]\n",
    "summe = 0\n",
    "runs = 1\n",
    "for koerper in K[98::2]:\n",
    "    for i in range(runs):\n",
    "        temp = LFSR.scalarMassey(seq,koerper)\n",
    "        summe += temp[0]\n",
    "    primList.append(temp[1])\n",
    "    timeList.append(summe/runs)\n",
    "    summe = 0"
   ]
  },
  {
   "cell_type": "code",
   "execution_count": 34,
   "metadata": {},
   "outputs": [
    {
     "data": {
      "text/plain": [
       "[<matplotlib.lines.Line2D at 0x7f98f8379240>]"
      ]
     },
     "execution_count": 34,
     "metadata": {},
     "output_type": "execute_result"
    },
    {
     "data": {
      "image/png": "[encoded data removed]",
      "text/plain": [
       "<Figure size 432x288 with 1 Axes>"
      ]
     },
     "metadata": {
      "needs_background": "light"
     },
     "output_type": "display_data"
    }
   ],
   "source": [
    "from matplotlib import pyplot as plt\n",
    "fig = plt.figure()\n",
    "ax = fig.add_axes([0,0,1,1])\n",
    "ax.plot(primList[1:], timeList[1:])\n"
   ]
  },
  {
   "cell_type": "code",
   "execution_count": 32,
   "metadata": {},
   "outputs": [
    {
     "data": {
      "text/plain": [
       "[None,\n",
       " 15485867,\n",
       " 49979687,\n",
       " 67867967,\n",
       " 86028121,\n",
       " 104395301,\n",
       " 122949823,\n",
       " 141650939,\n",
       " 160481183,\n",
       " 179424673,\n",
       " 198491317,\n",
       " 217645177,\n",
       " 236887691,\n",
       " 256203161,\n",
       " 275604541,\n",
       " 295075147,\n",
       " 314606869,\n",
       " 334214459,\n",
       " 353868013,\n",
       " 373587883,\n",
       " 393342739,\n",
       " 413158511,\n",
       " 433024223,\n",
       " 452930459,\n",
       " 472882027,\n",
       " 492876847,\n",
       " 512927357,\n",
       " 533000389,\n",
       " 553105243,\n",
       " 573259391,\n",
       " 593441843,\n",
       " 613651349,\n",
       " 633910099,\n",
       " 654188383,\n",
       " 674506081,\n",
       " 694847533,\n",
       " 715225739,\n",
       " 735632791,\n",
       " 756065159,\n",
       " 776531401,\n",
       " 797003413,\n",
       " 817504243,\n",
       " 838041641,\n",
       " 858599503,\n",
       " 879190747,\n",
       " 899809343,\n",
       " 920419813,\n",
       " 941083981,\n",
       " 961748927,\n",
       " 982451653,\n",
       " 48112959837082048697,\n",
       " 671998030559713968361666935769,\n",
       " 2425967623052370772757633156976982469681,\n",
       " 22953686867719691230002707821868552601124472329079]"
      ]
     },
     "execution_count": 32,
     "metadata": {},
     "output_type": "execute_result"
    }
   ],
   "source": [
    "timeList[1:]\n",
    "primList\n",
    "\n"
   ]
  },
  {
   "cell_type": "code",
   "execution_count": 10,
   "metadata": {},
   "outputs": [
    {
     "data": {
      "text/plain": [
       "GanzzahlRestklassenringe.GanzzahlRestklassenring"
      ]
     },
     "execution_count": 10,
     "metadata": {},
     "output_type": "execute_result"
    }
   ],
   "source": []
  },
  {
   "cell_type": "code",
   "execution_count": null,
   "metadata": {},
   "outputs": [],
   "source": []
  }
 ],
 "metadata": {
  "kernelspec": {
   "display_name": "Python 3",
   "language": "python",
   "name": "python3"
  },
  "language_info": {
   "codemirror_mode": {
    "name": "ipython",
    "version": 3
   },
   "file_extension": ".py",
   "mimetype": "text/x-python",
   "name": "python",
   "nbconvert_exporter": "python",
   "pygments_lexer": "ipython3",
   "version": "3.7.3"
  }
 },
 "nbformat": 4,
 "nbformat_minor": 2
}

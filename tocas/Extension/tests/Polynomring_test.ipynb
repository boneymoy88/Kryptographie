{
 "cells": [
  {
   "cell_type": "code",
   "execution_count": 1,
   "metadata": {},
   "outputs": [],
   "source": [
    "import project_path\n",
    "from Tocas import Polynomring, PolynomringElement\n",
    "\n",
    "import Extension.polynomring_extension\n",
    "from Extension.BruchzahlRing import Q\n",
    "\n"
   ]
  },
  {
   "cell_type": "code",
   "execution_count": 4,
   "metadata": {},
   "outputs": [
    {
     "name": "stdout",
     "output_type": "stream",
     "text": [
      "((1/1)  in Q[x], (1/2)  in Q[x], (-1/4)*x  in Q[x])\n",
      "(1/2)*x  in Q[x]\n"
     ]
    }
   ],
   "source": [
    "R_X = Polynomring(Q)\n",
    "a = PolynomringElement([2, 0, 0, 1], R_X)\n",
    "b = PolynomringElement([0, 0, 2], R_X)\n",
    "\n",
    "print(Polynomring.ExtGGT(a, b))\n",
    "print(a//b)\n"
   ]
  }
 ],
 "metadata": {
  "kernelspec": {
   "display_name": "Python 3",
   "language": "python",
   "name": "python3"
  },
  "language_info": {
   "codemirror_mode": {
    "name": "ipython",
    "version": 3
   },
   "file_extension": ".py",
   "mimetype": "text/x-python",
   "name": "python",
   "nbconvert_exporter": "python",
   "pygments_lexer": "ipython3",
   "version": "3.7.3"
  }
 },
 "nbformat": 4,
 "nbformat_minor": 2
}

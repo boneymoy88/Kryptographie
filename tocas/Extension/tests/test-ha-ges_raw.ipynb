{
 "cells": [
  {
   "cell_type": "markdown",
   "metadata": {},
   "source": [
    "Der große Test\n",
    "\n",
    "Dieser Test ist für alle Hausaufgaben. Jede Implementierung sollte diesen Text \"bestehen\".\n"
   ]
  },
  {
   "cell_type": "code",
   "execution_count": 1,
   "metadata": {},
   "outputs": [],
   "source": [
    "from Tocas import *"
   ]
  },
  {
   "cell_type": "code",
   "execution_count": 2,
   "metadata": {},
   "outputs": [],
   "source": [
    "#Q\n",
    "Q = Bruchzahlring()"
   ]
  },
  {
   "cell_type": "code",
   "execution_count": 3,
   "metadata": {},
   "outputs": [
    {
     "data": {
      "text/plain": [
       "Q"
      ]
     },
     "execution_count": 3,
     "metadata": {},
     "output_type": "execute_result"
    }
   ],
   "source": [
    "Q"
   ]
  },
  {
   "cell_type": "code",
   "execution_count": 4,
   "metadata": {},
   "outputs": [
    {
     "data": {
      "text/plain": [
       "(True, False)"
      ]
     },
     "execution_count": 4,
     "metadata": {},
     "output_type": "execute_result"
    }
   ],
   "source": [
    "QQ = Bruchzahlring()\n",
    "Q == QQ, Q == Z"
   ]
  },
  {
   "cell_type": "code",
   "execution_count": 5,
   "metadata": {},
   "outputs": [
    {
     "data": {
      "text/plain": [
       "1/2  in Q"
      ]
     },
     "execution_count": 5,
     "metadata": {},
     "output_type": "execute_result"
    }
   ],
   "source": [
    "BruchzahlringElement(1,2,Q)"
   ]
  },
  {
   "cell_type": "code",
   "execution_count": 6,
   "metadata": {},
   "outputs": [
    {
     "data": {
      "text/plain": [
       "(2  in Q, 2  in Q, 1/2  in Q, 3/2  in Q, 5/2  in Q)"
      ]
     },
     "execution_count": 6,
     "metadata": {},
     "output_type": "execute_result"
    }
   ],
   "source": [
    "2*Q.eins, Q.eins*2, Q.eins/2, 3*Q.eins/2, 3*Q.eins/2 +1"
   ]
  },
  {
   "cell_type": "code",
   "execution_count": 7,
   "metadata": {},
   "outputs": [],
   "source": [
    "a = 5*Q.eins/3"
   ]
  },
  {
   "cell_type": "code",
   "execution_count": 8,
   "metadata": {},
   "outputs": [
    {
     "data": {
      "text/plain": [
       "3/5  in Q"
      ]
     },
     "execution_count": 8,
     "metadata": {},
     "output_type": "execute_result"
    }
   ],
   "source": [
    "a ** -1"
   ]
  },
  {
   "cell_type": "code",
   "execution_count": 9,
   "metadata": {},
   "outputs": [
    {
     "data": {
      "text/plain": [
       "1  in Q"
      ]
     },
     "execution_count": 9,
     "metadata": {},
     "output_type": "execute_result"
    }
   ],
   "source": [
    "a/a"
   ]
  },
  {
   "cell_type": "code",
   "execution_count": 10,
   "metadata": {},
   "outputs": [
    {
     "data": {
      "text/plain": [
       "Q[x]"
      ]
     },
     "execution_count": 10,
     "metadata": {},
     "output_type": "execute_result"
    }
   ],
   "source": [
    "# Q[x]\n",
    "P = Polynomring(Q)\n",
    "P"
   ]
  },
  {
   "cell_type": "code",
   "execution_count": 11,
   "metadata": {},
   "outputs": [
    {
     "data": {
      "text/plain": [
       "x^3 + 1  in Q[x]"
      ]
     },
     "execution_count": 11,
     "metadata": {},
     "output_type": "execute_result"
    }
   ],
   "source": [
    "f = P.variable ** 3 + P.eins\n",
    "f"
   ]
  },
  {
   "cell_type": "code",
   "execution_count": 12,
   "metadata": {},
   "outputs": [
    {
     "data": {
      "text/plain": [
       "True"
      ]
     },
     "execution_count": 12,
     "metadata": {},
     "output_type": "execute_result"
    }
   ],
   "source": [
    "g = P.variable ** 3 + Q.eins\n",
    "f == g"
   ]
  },
  {
   "cell_type": "code",
   "execution_count": 13,
   "metadata": {},
   "outputs": [
    {
     "data": {
      "text/plain": [
       "[x]  in Q[x]/(x^3 + 1)"
      ]
     },
     "execution_count": 13,
     "metadata": {},
     "output_type": "execute_result"
    }
   ],
   "source": [
    "# Q[x]/(x^3 + 1)\n",
    "PR = PolynomRestklassenring(f)\n",
    "a = PR.erzeuger\n",
    "a"
   ]
  },
  {
   "cell_type": "code",
   "execution_count": 14,
   "metadata": {},
   "outputs": [
    {
     "data": {
      "text/plain": [
       "True"
      ]
     },
     "execution_count": 14,
     "metadata": {},
     "output_type": "execute_result"
    }
   ],
   "source": [
    "a == PR.element(P.variable)"
   ]
  },
  {
   "cell_type": "code",
   "execution_count": 15,
   "metadata": {},
   "outputs": [
    {
     "data": {
      "text/plain": [
       "[x]  in Q[x]/(x^3 + 1)"
      ]
     },
     "execution_count": 15,
     "metadata": {},
     "output_type": "execute_result"
    }
   ],
   "source": [
    "a"
   ]
  },
  {
   "cell_type": "code",
   "execution_count": 16,
   "metadata": {},
   "outputs": [
    {
     "data": {
      "text/plain": [
       "0  in Q[x]/(x^3 + 1)"
      ]
     },
     "execution_count": 16,
     "metadata": {},
     "output_type": "execute_result"
    }
   ],
   "source": [
    "a ** 3 + a**0"
   ]
  },
  {
   "cell_type": "markdown",
   "metadata": {},
   "source": [
    "Das obige ist genau f(a), und dies ist Null. Alternativ kann man auch f in den Restklassenring abbilden:"
   ]
  },
  {
   "cell_type": "code",
   "execution_count": 17,
   "metadata": {},
   "outputs": [
    {
     "data": {
      "text/plain": [
       "0  in Q[x]/(x^3 + 1)"
      ]
     },
     "execution_count": 17,
     "metadata": {},
     "output_type": "execute_result"
    }
   ],
   "source": [
    "PR.element(f)"
   ]
  },
  {
   "cell_type": "code",
   "execution_count": 18,
   "metadata": {},
   "outputs": [
    {
     "data": {
      "text/plain": [
       "-1*[x]^2  in Q[x]/(x^3 + 1)"
      ]
     },
     "execution_count": 18,
     "metadata": {},
     "output_type": "execute_result"
    }
   ],
   "source": [
    "b=a.invers()\n",
    "b"
   ]
  },
  {
   "cell_type": "code",
   "execution_count": 19,
   "metadata": {},
   "outputs": [
    {
     "data": {
      "text/plain": [
       "1  in Q[x]/(x^3 + 1)"
      ]
     },
     "execution_count": 19,
     "metadata": {},
     "output_type": "execute_result"
    }
   ],
   "source": [
    "a*b"
   ]
  },
  {
   "cell_type": "markdown",
   "metadata": {},
   "source": [
    "Dies ist die 1 in diesem Ring, also stimmt's."
   ]
  },
  {
   "cell_type": "code",
   "execution_count": 20,
   "metadata": {},
   "outputs": [],
   "source": [
    "# F_1009[x]/(x^10 +1)\n",
    "R = GanzzahlRestklassenring(1009)\n",
    "P = Polynomring(R)\n",
    "f = P.variable ** 5 + R.eins\n",
    "PR = PolynomRestklassenring(f)"
   ]
  },
  {
   "cell_type": "code",
   "execution_count": 21,
   "metadata": {},
   "outputs": [
    {
     "data": {
      "text/plain": [
       "[x]  in Z/1009Z[x]/(x^5 + [1])"
      ]
     },
     "execution_count": 21,
     "metadata": {},
     "output_type": "execute_result"
    }
   ],
   "source": [
    "PR.erzeuger"
   ]
  },
  {
   "cell_type": "code",
   "execution_count": 22,
   "metadata": {},
   "outputs": [
    {
     "data": {
      "text/plain": [
       "([342]*[x]^4 + [859]*[x]^3 + [754]*[x]^2 + [402]*[x] + [33]  in Z/1009Z[x]/(x^5 + [1]),\n",
       " [988]*[x]^4 + [791]*[x]^3 + [260]*[x]^2 + [879]*[x] + [337]  in Z/1009Z[x]/(x^5 + [1]))"
      ]
     },
     "execution_count": 22,
     "metadata": {},
     "output_type": "execute_result"
    }
   ],
   "source": [
    "a = PR.random()\n",
    "b = PR.random()\n",
    "a,b"
   ]
  },
  {
   "cell_type": "code",
   "execution_count": 23,
   "metadata": {},
   "outputs": [
    {
     "data": {
      "text/plain": [
       "[321]*[x]^4 + [641]*[x]^3 + [5]*[x]^2 + [272]*[x] + [370]  in Z/1009Z[x]/(x^5 + [1])"
      ]
     },
     "execution_count": 23,
     "metadata": {},
     "output_type": "execute_result"
    }
   ],
   "source": [
    "a + b"
   ]
  },
  {
   "cell_type": "code",
   "execution_count": 24,
   "metadata": {},
   "outputs": [
    {
     "data": {
      "text/plain": [
       "[294]*[x]^4 + [77]*[x]^3 + [169]*[x]^2 + [868]*[x] + [753]  in Z/1009Z[x]/(x^5 + [1])"
      ]
     },
     "execution_count": 24,
     "metadata": {},
     "output_type": "execute_result"
    }
   ],
   "source": [
    "a**2"
   ]
  },
  {
   "cell_type": "code",
   "execution_count": 25,
   "metadata": {},
   "outputs": [
    {
     "data": {
      "text/plain": [
       "[938]*[x]^4 + [325]*[x]^3 + [680]*[x]^2 + [204]*[x] + [478]  in Z/1009Z[x]/(x^5 + [1])"
      ]
     },
     "execution_count": 25,
     "metadata": {},
     "output_type": "execute_result"
    }
   ],
   "source": [
    "a ** -1"
   ]
  },
  {
   "cell_type": "code",
   "execution_count": 26,
   "metadata": {},
   "outputs": [
    {
     "data": {
      "text/plain": [
       "[x]  in Z/1009Z[x]/(x^5 + [1])"
      ]
     },
     "execution_count": 26,
     "metadata": {},
     "output_type": "execute_result"
    }
   ],
   "source": [
    "PR.erzeuger"
   ]
  },
  {
   "cell_type": "code",
   "execution_count": 27,
   "metadata": {},
   "outputs": [
    {
     "data": {
      "text/plain": [
       "[0]  in Z/1009Z[x]/(x^5 + [1])"
      ]
     },
     "execution_count": 27,
     "metadata": {},
     "output_type": "execute_result"
    }
   ],
   "source": [
    "PR.erzeuger ** 5 + PR.eins"
   ]
  },
  {
   "cell_type": "markdown",
   "metadata": {},
   "source": [
    "Sollte [0] sein."
   ]
  },
  {
   "cell_type": "code",
   "execution_count": 28,
   "metadata": {},
   "outputs": [
    {
     "data": {
      "text/plain": [
       "y^3 + y + [342]*[x]^4 + [859]*[x]^3 + [754]*[x]^2 + [402]*[x] + [33]  in Z/1009Z[x]/(x^5 + [1])[y]"
      ]
     },
     "execution_count": 28,
     "metadata": {},
     "output_type": "execute_result"
    }
   ],
   "source": [
    "# (F_1009[x]/(x^10 +1))[y]/(f)\n",
    "# (Erweiterung eines Erweiterungskörpers)\n",
    "P2 = Polynomring(PR,\"y\")\n",
    "f = P2.variable**3 + P2.variable + a\n",
    "# Das a am Ende ist kein Schreibfehler. Man kann dafür auch a*P.eins\n",
    "# schreiben.\n",
    "f"
   ]
  },
  {
   "cell_type": "code",
   "execution_count": 29,
   "metadata": {},
   "outputs": [
    {
     "data": {
      "text/plain": [
       "Z/1009Z[x]/(x^5 + [1])[y]/(y^3 + y + [342]*[x]^4 + [859]*[x]^3 + [754]*[x]^2 + [402]*[x] + [33])"
      ]
     },
     "execution_count": 29,
     "metadata": {},
     "output_type": "execute_result"
    }
   ],
   "source": [
    "PR2 = PolynomRestklassenring(f)\n",
    "PR2"
   ]
  },
  {
   "cell_type": "code",
   "execution_count": 30,
   "metadata": {},
   "outputs": [
    {
     "data": {
      "text/plain": [
       "[605]*[x]^4 + [811]*[x]^3 + [252]*[x]^2 + [250]*[x] + [705]*[y]^2 + [453]*[x]^4 + [437]*[x]^3 + [494]*[x]^2 + [235]*[x] + [236]*[y] + [581]*[x]^4 + [650]*[x]^3 + [945]*[x]^2 + [723]*[x] + [672]  in Z/1009Z[x]/(x^5 + [1])[y]/(y^3 + y + [342]*[x]^4 + [859]*[x]^3 + [754]*[x]^2 + [402]*[x] + [33])"
      ]
     },
     "execution_count": 30,
     "metadata": {},
     "output_type": "execute_result"
    }
   ],
   "source": [
    "c= PR2.random()\n",
    "c"
   ]
  },
  {
   "cell_type": "code",
   "execution_count": 31,
   "metadata": {},
   "outputs": [
    {
     "data": {
      "text/plain": [
       "[215]*[x]^4 + [3]*[x]^3 + [949]*[x]^2 + [780]*[x] + [937]*[y]^2 + [824]*[x]^4 + [84]*[x]^3 + [644]*[x]^2 + [289]*[x] + [698]*[y] + [911]*[x]^4 + [746]*[x]^3 + [920]*[x]^2 + [511]*[x] + [33]  in Z/1009Z[x]/(x^5 + [1])[y]/(y^3 + y + [342]*[x]^4 + [859]*[x]^3 + [754]*[x]^2 + [402]*[x] + [33])"
      ]
     },
     "execution_count": 31,
     "metadata": {},
     "output_type": "execute_result"
    }
   ],
   "source": [
    "c ** 2"
   ]
  },
  {
   "cell_type": "code",
   "execution_count": 32,
   "metadata": {},
   "outputs": [
    {
     "data": {
      "text/plain": [
       "True"
      ]
     },
     "execution_count": 32,
     "metadata": {},
     "output_type": "execute_result"
    }
   ],
   "source": [
    "(c + 5*PR.erzeuger) - 5*PR.erzeuger == c"
   ]
  },
  {
   "cell_type": "code",
   "execution_count": 33,
   "metadata": {},
   "outputs": [
    {
     "data": {
      "text/plain": [
       "[654]*[x]^4 + [864]*[x]^3 + [30]*[x]^2 + [138]*[x] + [317]*[y]^2 + [280]*[x]^4 + [270]*[x]^3 + [220]*[x]^2 + [722]*[x] + [442]*[y] + [313]*[x]^4 + [174]*[x]^3 + [744]*[x]^2 + [183]*[x] + [556]  in Z/1009Z[x]/(x^5 + [1])[y]/(y^3 + y + [342]*[x]^4 + [859]*[x]^3 + [754]*[x]^2 + [402]*[x] + [33])"
      ]
     },
     "execution_count": 33,
     "metadata": {},
     "output_type": "execute_result"
    }
   ],
   "source": [
    "d = c ** -1\n",
    "d"
   ]
  },
  {
   "cell_type": "code",
   "execution_count": 34,
   "metadata": {},
   "outputs": [
    {
     "data": {
      "text/plain": [
       "True"
      ]
     },
     "execution_count": 34,
     "metadata": {},
     "output_type": "execute_result"
    }
   ],
   "source": [
    "c*d == PR2.eins"
   ]
  },
  {
   "cell_type": "markdown",
   "metadata": {},
   "source": [
    "So, das war's ...\n",
    "\n",
    "Und jetzt kommt der Test für Hausaufgabe 3.\n",
    "\n",
    "Natürlich müssen wieder gegebenenfalls Aufrufe angepasst werden."
   ]
  },
  {
   "cell_type": "code",
   "execution_count": 35,
   "metadata": {},
   "outputs": [],
   "source": [
    "i = 10 ** 10\n",
    "while not ist_prim(i):\n",
    "    i += 1\n"
   ]
  },
  {
   "cell_type": "code",
   "execution_count": 36,
   "metadata": {},
   "outputs": [
    {
     "data": {
      "text/plain": [
       "10000000019"
      ]
     },
     "execution_count": 36,
     "metadata": {},
     "output_type": "execute_result"
    }
   ],
   "source": [
    "i\n"
   ]
  },
  {
   "cell_type": "markdown",
   "metadata": {},
   "source": [
    "Haben Sie die richtige Zahl, also 10000000019? Ich teste das für Sie."
   ]
  },
  {
   "cell_type": "code",
   "execution_count": 37,
   "metadata": {},
   "outputs": [
    {
     "data": {
      "text/plain": [
       "True"
      ]
     },
     "execution_count": 37,
     "metadata": {},
     "output_type": "execute_result"
    }
   ],
   "source": [
    "i == 10000000019"
   ]
  },
  {
   "cell_type": "markdown",
   "metadata": {},
   "source": [
    "Das AKS-Test ist sehr langsam. Mal schaun, wie weit Sie kommen:"
   ]
  },
  {
   "cell_type": "code",
   "execution_count": 38,
   "metadata": {},
   "outputs": [
    {
     "data": {
      "text/plain": [
       "True"
      ]
     },
     "execution_count": 38,
     "metadata": {},
     "output_type": "execute_result"
    }
   ],
   "source": [
    "aks(31)"
   ]
  },
  {
   "cell_type": "code",
   "execution_count": 39,
   "metadata": {},
   "outputs": [
    {
     "data": {
      "text/plain": [
       "True"
      ]
     },
     "execution_count": 39,
     "metadata": {},
     "output_type": "execute_result"
    }
   ],
   "source": [
    "aks(101)"
   ]
  },
  {
   "cell_type": "markdown",
   "metadata": {},
   "source": [
    "Das könnte im Minutenbereich dauern. Für Nicht-Primzahlen geht es aber deutlich schneller, z.B.:"
   ]
  },
  {
   "cell_type": "code",
   "execution_count": 40,
   "metadata": {},
   "outputs": [
    {
     "data": {
      "text/plain": [
       "False"
      ]
     },
     "execution_count": 40,
     "metadata": {},
     "output_type": "execute_result"
    }
   ],
   "source": [
    "aks(13*17)"
   ]
  },
  {
   "cell_type": "markdown",
   "metadata": {},
   "source": [
    "Das geht bei mir instantan."
   ]
  },
  {
   "cell_type": "markdown",
   "metadata": {},
   "source": [
    "Den Irreduzibilitätstest testen wir anhand der Konstruktion endlicher Körper:"
   ]
  },
  {
   "cell_type": "code",
   "execution_count": 41,
   "metadata": {},
   "outputs": [
    {
     "data": {
      "text/plain": [
       "Z/2Z[x]/(x^2 + x + [1])"
      ]
     },
     "execution_count": 41,
     "metadata": {},
     "output_type": "execute_result"
    }
   ],
   "source": [
    "endlicher_koerper(4)"
   ]
  },
  {
   "cell_type": "markdown",
   "metadata": {},
   "source": [
    "Diese Antwort ist eindeutig, denn x^2 + x + 1 ist das einzige irreduzible Polynom von Grad 2 über F_2."
   ]
  },
  {
   "cell_type": "code",
   "execution_count": 42,
   "metadata": {},
   "outputs": [
    {
     "data": {
      "text/plain": [
       "Z/1009Z"
      ]
     },
     "execution_count": 42,
     "metadata": {},
     "output_type": "execute_result"
    }
   ],
   "source": [
    "endlicher_koerper(1009)"
   ]
  },
  {
   "cell_type": "code",
   "execution_count": 43,
   "metadata": {},
   "outputs": [
    {
     "data": {
      "text/plain": [
       "Z/1009Z[x]/(x^2 + x + [3])"
      ]
     },
     "execution_count": 43,
     "metadata": {},
     "output_type": "execute_result"
    }
   ],
   "source": [
    "endlicher_koerper(1009,2)"
   ]
  },
  {
   "cell_type": "code",
   "execution_count": 44,
   "metadata": {},
   "outputs": [
    {
     "data": {
      "text/plain": [
       "Z/1009Z[x]/(x^7 + [2])"
      ]
     },
     "execution_count": 44,
     "metadata": {},
     "output_type": "execute_result"
    }
   ],
   "source": [
    "endlicher_koerper(1009,7)"
   ]
  },
  {
   "cell_type": "code",
   "execution_count": 45,
   "metadata": {},
   "outputs": [
    {
     "data": {
      "text/plain": [
       "Z/1009Z[x]/(x^8 + [11])"
      ]
     },
     "execution_count": 45,
     "metadata": {},
     "output_type": "execute_result"
    }
   ],
   "source": [
    "endlicher_koerper(1009,8)"
   ]
  },
  {
   "cell_type": "code",
   "execution_count": 46,
   "metadata": {},
   "outputs": [
    {
     "data": {
      "text/plain": [
       "Z/1009Z[x]/(x^9 + [2])"
      ]
     },
     "execution_count": 46,
     "metadata": {},
     "output_type": "execute_result"
    }
   ],
   "source": [
    "endlicher_koerper(1009,9)"
   ]
  },
  {
   "cell_type": "code",
   "execution_count": 47,
   "metadata": {},
   "outputs": [
    {
     "data": {
      "text/plain": [
       "Z/1009Z[x]/(x^10 + x + [22])"
      ]
     },
     "execution_count": 47,
     "metadata": {},
     "output_type": "execute_result"
    }
   ],
   "source": [
    "endlicher_koerper(1009,10)"
   ]
  },
  {
   "cell_type": "markdown",
   "metadata": {},
   "source": [
    "Dieses Beispiel ist interessant, weil es wohl kein irreduzibles Polynom der Form x^10 + [a] gibt und das vollständige Suchen nach solchen Polynomen recht lange dauert. Hier sollte dann rechtzeitig zu einer Suche nach einem andersartigen Polynom übergegangen werden.\n",
    "\n",
    "Dieses Vorgehen testen wir jetzt. Desweiteren testen wir, ob Ihre Funktion auch mit großen Primpotenzen umgehen kann:"
   ]
  },
  {
   "cell_type": "code",
   "execution_count": 48,
   "metadata": {},
   "outputs": [
    {
     "data": {
      "text/plain": [
       "Z/10000000019Z[x]/(x^2 + [1])"
      ]
     },
     "execution_count": 48,
     "metadata": {},
     "output_type": "execute_result"
    }
   ],
   "source": [
    "endlicher_koerper((10 ** 10 + 19)**2)"
   ]
  },
  {
   "cell_type": "code",
   "execution_count": 49,
   "metadata": {},
   "outputs": [
    {
     "data": {
      "text/plain": [
       "Z/10000000019Z[x]/(x^5 + x + [9])"
      ]
     },
     "execution_count": 49,
     "metadata": {},
     "output_type": "execute_result"
    }
   ],
   "source": [
    "endlicher_koerper((10 ** 10 + 19)**5)"
   ]
  },
  {
   "cell_type": "markdown",
   "metadata": {},
   "source": [
    "Hier muss die Suche nach Polynomen der Form x^5 + [a] auf jeden Fall rechtzeitig abgebrochen werden."
   ]
  },
  {
   "cell_type": "markdown",
   "metadata": {},
   "source": [
    "Jetzt spielen wir noch ein wenig mit Körpererweiterungen:"
   ]
  },
  {
   "cell_type": "code",
   "execution_count": 50,
   "metadata": {},
   "outputs": [],
   "source": [
    "K = endlicher_koerper(4)"
   ]
  },
  {
   "cell_type": "code",
   "execution_count": 51,
   "metadata": {},
   "outputs": [
    {
     "data": {
      "text/plain": [
       "Z/2Z[x]/(x^2 + x + [1])"
      ]
     },
     "execution_count": 51,
     "metadata": {},
     "output_type": "execute_result"
    }
   ],
   "source": [
    "K"
   ]
  },
  {
   "cell_type": "code",
   "execution_count": 52,
   "metadata": {},
   "outputs": [],
   "source": [
    "PK = Polynomring(K,\"y\")"
   ]
  },
  {
   "cell_type": "code",
   "execution_count": 53,
   "metadata": {},
   "outputs": [
    {
     "data": {
      "text/plain": [
       "Z/2Z[x]/(x^2 + x + [1])[y]"
      ]
     },
     "execution_count": 53,
     "metadata": {},
     "output_type": "execute_result"
    }
   ],
   "source": [
    "PK"
   ]
  },
  {
   "cell_type": "code",
   "execution_count": 54,
   "metadata": {},
   "outputs": [],
   "source": [
    "f = PK.variable ** 3 + PK.variable + PK.eins"
   ]
  },
  {
   "cell_type": "markdown",
   "metadata": {},
   "source": [
    "Dieses Polynom (das zunächst ein Polynom über F_2 ist) ist, ist auch irreduzibel über K:"
   ]
  },
  {
   "cell_type": "code",
   "execution_count": 55,
   "metadata": {},
   "outputs": [
    {
     "data": {
      "text/plain": [
       "True"
      ]
     },
     "execution_count": 55,
     "metadata": {},
     "output_type": "execute_result"
    }
   ],
   "source": [
    "ist_irreduzibel(f)"
   ]
  },
  {
   "cell_type": "markdown",
   "metadata": {},
   "source": [
    "Wir konstruieren die entsprechende Erweiterung von K:"
   ]
  },
  {
   "cell_type": "code",
   "execution_count": 56,
   "metadata": {},
   "outputs": [],
   "source": [
    "L =PolynomRestklassenring(f)"
   ]
  },
  {
   "cell_type": "code",
   "execution_count": 57,
   "metadata": {},
   "outputs": [
    {
     "data": {
      "text/plain": [
       "True"
      ]
     },
     "execution_count": 57,
     "metadata": {},
     "output_type": "execute_result"
    }
   ],
   "source": [
    "L.ist_endlicher_koerper()"
   ]
  },
  {
   "cell_type": "markdown",
   "metadata": {},
   "source": [
    "Kommentar:\n",
    "\n",
    "Ich habe \"ist_endlicher_koerper\" als Instanzmethode implementiert, um das schon bei der abstrakten Klasse Ringe vorsehen zu können, und zwar deshalb:\n",
    "\n",
    "Ich berechne dies zu Beginn nicht, sondern erst, wenn es gebraucht wird. Dann speichere ich das Ergebnis als Attribut ab, damit es ab dann immer verfügbar ist. \n",
    "\n",
    "Hierzu muss man den Ring aber zuerst \"auftauen\", und dazu muss man die Klasse UnveraenderbaresObjekt in AbstrakterAnfang ändern ..."
   ]
  },
  {
   "cell_type": "markdown",
   "metadata": {},
   "source": [
    "Andererseits ist das Polynom x^2 + x + 1 reduzibel über K, weil K gerade so konstruiert ist, dass es eine Nullstelle hat:"
   ]
  },
  {
   "cell_type": "code",
   "execution_count": 58,
   "metadata": {},
   "outputs": [
    {
     "data": {
      "text/plain": [
       "False"
      ]
     },
     "execution_count": 58,
     "metadata": {},
     "output_type": "execute_result"
    }
   ],
   "source": [
    "ist_irreduzibel(PK.variable ** 2 + PK.variable + PK.eins)"
   ]
  },
  {
   "cell_type": "markdown",
   "metadata": {},
   "source": [
    "Durch welches Polynom kann dann eine Körpererweiterung von Grad 2 von K gegeben werden?"
   ]
  },
  {
   "cell_type": "code",
   "execution_count": 59,
   "metadata": {},
   "outputs": [
    {
     "data": {
      "text/plain": [
       "Z/2Z[x]/(x^2 + x + [1])[x]/(x^2 + x + [x])"
      ]
     },
     "execution_count": 59,
     "metadata": {},
     "output_type": "execute_result"
    }
   ],
   "source": [
    "endlicher_koerper(K,2)"
   ]
  },
  {
   "cell_type": "markdown",
   "metadata": {},
   "source": [
    "Das sieht nicht so gut aus, da \"x\" doppelt vorkommt. Ich hab nun noch die Ausgabe schön gemacht:"
   ]
  },
  {
   "cell_type": "code",
   "execution_count": 63,
   "metadata": {},
   "outputs": [],
   "source": [
    "R=endlicher_koerper(K,2, \"a\", \"y\")"
   ]
  },
  {
   "cell_type": "markdown",
   "metadata": {},
   "source": [
    "Sieht es bei Ihnen auch so aus und hat alles andere auch geklappt?\n",
    "\n",
    "Dann sind Sie fertig!"
   ]
  },
  {
   "cell_type": "code",
   "execution_count": 64,
   "metadata": {},
   "outputs": [
    {
     "data": {
      "text/plain": [
       "Z/2Z[x]/(x^2 + x + [1])[y] = Z/2Z[x]/(x^2 + x + [1])[a]/(a^2 + a + [x])"
      ]
     },
     "execution_count": 64,
     "metadata": {},
     "output_type": "execute_result"
    }
   ],
   "source": [
    "R"
   ]
  },
  {
   "cell_type": "code",
   "execution_count": 75,
   "metadata": {},
   "outputs": [],
   "source": [
    "PR=Polynomring(PolynomRestklassenring(P.variable**100+ ,\"a\"),\"y\")"
   ]
  },
  {
   "cell_type": "code",
   "execution_count": 79,
   "metadata": {},
   "outputs": [
    {
     "data": {
      "text/plain": [
       "y^10  in Z/1009Z[a][y] = Z/1009Z[x]/(x^100)[y]"
      ]
     },
     "execution_count": 79,
     "metadata": {},
     "output_type": "execute_result"
    }
   ],
   "source": [
    "PR.variable **10"
   ]
  },
  {
   "cell_type": "code",
   "execution_count": 80,
   "metadata": {},
   "outputs": [
    {
     "data": {
      "text/plain": [
       "b  in Z/1009Z[a][b] = Z/1009Z[x]/(x^100)[y]/(y^10)"
      ]
     },
     "execution_count": 80,
     "metadata": {},
     "output_type": "execute_result"
    }
   ],
   "source": [
    "PolynomRestklassenring(PR.variable**10,\"b\").erzeuger\n"
   ]
  },
  {
   "cell_type": "code",
   "execution_count": null,
   "metadata": {},
   "outputs": [],
   "source": []
  }
 ],
 "metadata": {
  "kernelspec": {
   "display_name": "Python 3",
   "language": "python",
   "name": "python3"
  },
  "language_info": {
   "codemirror_mode": {
    "name": "ipython",
    "version": 3
   },
   "file_extension": ".py",
   "mimetype": "text/x-python",
   "name": "python",
   "nbconvert_exporter": "python",
   "pygments_lexer": "ipython3",
   "version": "3.7.3"
  }
 },
 "nbformat": 4,
 "nbformat_minor": 2
}

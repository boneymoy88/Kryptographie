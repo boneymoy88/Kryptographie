{
 "cells": [
  {
   "cell_type": "code",
   "execution_count": 1,
   "metadata": {},
   "outputs": [],
   "source": [
    "import project_path\n",
    "from Tocas import GanzzahlRestklassenring, Polynomring, PolynomringElement\n",
    "\n",
    "from Extension.PolynomRestklassenring import PolynomRestklassenring, PolynomRestklassenringElement\n",
    "from Extension.Bruchzahlring import Bruchzahlring, BruchzahlringElement"
   ]
  },
  {
   "cell_type": "code",
   "execution_count": 2,
   "metadata": {},
   "outputs": [
    {
     "name": "stdout",
     "output_type": "stream",
     "text": [
      "[1] + [1]*x^2 in Z/2Z[x]/([1] + [1]*x^2 + [1]*x^3)\n",
      "[1] + [1]*x + [1]*x^2 in Z/2Z[x]/([1] + [1]*x^2 + [1]*x^3)\n"
     ]
    }
   ],
   "source": [
    "Z_2 = GanzzahlRestklassenring(2)\n",
    "K_X = Polynomring(Z_2)\n",
    "x = PolynomringElement([1, 0, 1, 1], K_X)\n",
    "F = PolynomRestklassenring(x)\n",
    "a = PolynomRestklassenringElement([1, 0, 1], F)\n",
    "b = PolynomRestklassenringElement([1, 1, 1], F)\n",
    "\n",
    "print(a)\n",
    "print(b)\n"
   ]
  },
  {
   "cell_type": "code",
   "execution_count": 3,
   "metadata": {},
   "outputs": [
    {
     "name": "stdout",
     "output_type": "stream",
     "text": [
      "[1] + [1]*x^2 in Z/2Z[x]/([1] + [1]*x^2 + [1]*x^3)\n",
      "[1] + [1]*x^2 in Z/2Z[x]/([1] + [1]*x^2 + [1]*x^3)\n",
      "[0] in Z/2Z[x]/([1] + [1]*x^2 + [1]*x^3)\n"
     ]
    }
   ],
   "source": [
    "print(3 * a)\n",
    "print(Z_2.element(3) * a)\n",
    "print(F.null * a)"
   ]
  },
  {
   "cell_type": "code",
   "execution_count": 4,
   "metadata": {},
   "outputs": [
    {
     "name": "stdout",
     "output_type": "stream",
     "text": [
      "[1] in Z/2Z[x]/([1] + [1]*x^2 + [1]*x^3)\n",
      "[1] + [1]*x + [1]*x^2 in Z/2Z[x]/([1] + [1]*x^2 + [1]*x^3)\n",
      "[1] in Z/2Z[x]/([1] + [1]*x^2 + [1]*x^3)\n",
      "[1] + [1]*x^2 in Z/2Z[x]/([1] + [1]*x^2 + [1]*x^3)\n",
      "[1] in Z/2Z[x]/([1] + [1]*x^2 + [1]*x^3)\n"
     ]
    }
   ],
   "source": [
    "print(a * b)\n",
    "print(a.invers())\n",
    "print(a * a.invers())\n",
    "print(b.invers())\n",
    "print(b * b.invers())"
   ]
  },
  {
   "cell_type": "code",
   "execution_count": 11,
   "metadata": {},
   "outputs": [
    {
     "name": "stdout",
     "output_type": "stream",
     "text": [
      "[1]*x + [1]*x^2 in Z/2Z[x]/([1] + [1]*x^2 + [1]*x^3)\n",
      "[1]*x^2 in Z/2Z[x]/([1] + [1]*x^2 + [1]*x^3)\n",
      "[1] + [1]*x in Z/2Z[x]/([1] + [1]*x^2 + [1]*x^3)\n",
      "[1]*x + [1]*x^2 in Z/2Z[x]/([1] + [1]*x^2 + [1]*x^3)\n"
     ]
    }
   ],
   "source": [
    "print(F.random())\n",
    "print(F.random())\n",
    "print(F.random())\n",
    "print(F.random())"
   ]
  },
  {
   "cell_type": "code",
   "execution_count": null,
   "metadata": {},
   "outputs": [],
   "source": [
    "\n"
   ]
  }
 ],
 "metadata": {
  "kernelspec": {
   "display_name": "Python 3",
   "language": "python",
   "name": "python3"
  },
  "language_info": {
   "codemirror_mode": {
    "name": "ipython",
    "version": 3
   },
   "file_extension": ".py",
   "mimetype": "text/x-python",
   "name": "python",
   "nbconvert_exporter": "python",
   "pygments_lexer": "ipython3",
   "version": "3.7.3"
  }
 },
 "nbformat": 4,
 "nbformat_minor": 2
}

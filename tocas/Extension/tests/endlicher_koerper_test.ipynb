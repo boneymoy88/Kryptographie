{
 "cells": [
  {
   "cell_type": "code",
   "execution_count": 2,
   "metadata": {},
   "outputs": [
    {
     "name": "stdout",
     "output_type": "stream",
     "text": [
      "False\n",
      "False\n",
      "False\n",
      "True\n",
      "True\n",
      "False\n",
      "True\n"
     ]
    }
   ],
   "source": [
    "import project_path\n",
    "\n",
    "from Tocas import Z, Polynomring, PolynomringElement, GanzzahlRestklassenring, GanzzahlRestklassenringElement\n",
    "\n",
    "import Extension.ganzzahl_extension\n",
    "import Extension.polynomring_extension\n",
    "import Extension.ganzzahlrestklassenring_extension\n",
    "from Extension.Bruchzahlring import Q\n",
    "from Extension.PolynomRestklassenring import PolynomRestklassenring\n",
    "from Extension.endlicher_koerper import endlicher_koerper\n",
    "\n",
    "KX = Polynomring(Z)\n",
    "R = GanzzahlRestklassenring(3)\n",
    "F = GanzzahlRestklassenring(7)\n",
    "\n",
    "f = PolynomringElement([1, 0, 1], KX)\n",
    "RX_f = PolynomRestklassenring(f)\n",
    "\n",
    "FX = Polynomring(F)\n",
    "g = PolynomringElement([1, 0, 1], FX)\n",
    "FX_g = PolynomRestklassenring(g)\n",
    "\n",
    "print(Z.ist_endlicher_koerper())\n",
    "print(KX.ist_endlicher_koerper())\n",
    "print(Q.ist_endlicher_koerper())\n",
    "print(R.ist_endlicher_koerper())\n",
    "print(F.ist_endlicher_koerper())\n",
    "print(RX_f.ist_endlicher_koerper())\n",
    "print(FX_g.ist_endlicher_koerper())"
   ]
  },
  {
   "cell_type": "code",
   "execution_count": 2,
   "metadata": {},
   "outputs": [
    {
     "name": "stdout",
     "output_type": "stream",
     "text": [
      "Z/3Z[x]/([1] + [2]*x + [1]*x^2 + [2]*x^3 + [1]*x^4)\n",
      "Z/3Z[x]/([1] + [2]*x + [1]*x^2 + [2]*x^3 + [1]*x^4)\n",
      "Z/3Z[x]/([2] + [1]*x + [1]*x^2)\n",
      "1 + 1*x^2  in Z[x]\n"
     ]
    }
   ],
   "source": [
    "print(endlicher_koerper(3, 4))\n",
    "print(endlicher_koerper(81))\n",
    "print(endlicher_koerper(R,2))\n",
    "\n",
    "R_X = Polynomring(Z)\n",
    "C = PolynomringElement([1,0,1], R_X)\n",
    "print(C)"
   ]
  },
  {
   "cell_type": "code",
   "execution_count": 3,
   "metadata": {},
   "outputs": [],
   "source": [
    "X = Polynomring(endlicher_koerper(7))"
   ]
  },
  {
   "cell_type": "code",
   "execution_count": 4,
   "metadata": {},
   "outputs": [
    {
     "data": {
      "text/plain": [
       "4 + 4*x^2  in Z[x]"
      ]
     },
     "execution_count": 4,
     "metadata": {},
     "output_type": "execute_result"
    }
   ],
   "source": [
    "C * 4"
   ]
  },
  {
   "cell_type": "code",
   "execution_count": 5,
   "metadata": {},
   "outputs": [
    {
     "data": {
      "text/plain": [
       "4"
      ]
     },
     "execution_count": 5,
     "metadata": {},
     "output_type": "execute_result"
    }
   ],
   "source": [
    "C.koeffizienten[0]*4"
   ]
  },
  {
   "cell_type": "code",
   "execution_count": 6,
   "metadata": {},
   "outputs": [
    {
     "data": {
      "text/plain": [
       "[1]*x^3  in Z/7Z[x]"
      ]
     },
     "execution_count": 6,
     "metadata": {},
     "output_type": "execute_result"
    }
   ],
   "source": [
    "X.variable ** 3"
   ]
  },
  {
   "cell_type": "code",
   "execution_count": 7,
   "metadata": {},
   "outputs": [
    {
     "data": {
      "text/plain": [
       "[4]  in Z/7Z[x]"
      ]
     },
     "execution_count": 7,
     "metadata": {},
     "output_type": "execute_result"
    }
   ],
   "source": [
    "d = X.eins * 2\n",
    "b = X.eins * 4\n",
    "\n",
    "d/b"
   ]
  },
  {
   "cell_type": "code",
   "execution_count": 8,
   "metadata": {},
   "outputs": [
    {
     "data": {
      "text/plain": [
       "1 + 3*x^2 + 3*x^4 + 1*x^6  in Z[x]"
      ]
     },
     "execution_count": 8,
     "metadata": {},
     "output_type": "execute_result"
    }
   ],
   "source": [
    " C ** 3"
   ]
  },
  {
   "cell_type": "code",
   "execution_count": 14,
   "metadata": {},
   "outputs": [
    {
     "name": "stdout",
     "output_type": "stream",
     "text": [
      "None\n"
     ]
    },
    {
     "data": {
      "text/plain": [
       "3"
      ]
     },
     "execution_count": 14,
     "metadata": {},
     "output_type": "execute_result"
    }
   ],
   "source": [
    "liste = [1,2]\n",
    "print(liste.reverse())\n",
    "C.koeffizienten.laenge\n"
   ]
  },
  {
   "cell_type": "code",
   "execution_count": 8,
   "metadata": {},
   "outputs": [
    {
     "ename": "TypeError",
     "evalue": "Erstes Argument muss Primzahl oder Primpotenz sein",
     "output_type": "error",
     "traceback": [
      "\u001b[1;31m---------------------------------------------------------------------------\u001b[0m",
      "\u001b[1;31mTypeError\u001b[0m                                 Traceback (most recent call last)",
      "\u001b[1;32m<ipython-input-8-7167a64a93e2>\u001b[0m in \u001b[0;36m<module>\u001b[1;34m()\u001b[0m\n\u001b[1;32m----> 1\u001b[1;33m \u001b[0mK\u001b[0m \u001b[1;33m=\u001b[0m \u001b[0mendlicher_koerper\u001b[0m\u001b[1;33m(\u001b[0m\u001b[1;36m12\u001b[0m\u001b[1;33m)\u001b[0m\u001b[1;33m\u001b[0m\u001b[1;33m\u001b[0m\u001b[0m\n\u001b[0m\u001b[0;32m      2\u001b[0m \u001b[0mK\u001b[0m\u001b[1;33m.\u001b[0m\u001b[0mist_endlicher_koerper\u001b[0m\u001b[1;33m(\u001b[0m\u001b[1;33m)\u001b[0m\u001b[1;33m\u001b[0m\u001b[1;33m\u001b[0m\u001b[0m\n",
      "\u001b[1;32m~\\Documents\\UNI\\Leipzig\\Kryptographie\\Kryptographie\\tocas\\Extension\\endlicher_koerper.py\u001b[0m in \u001b[0;36mendlicher_koerper\u001b[1;34m(p, n, variablenname, primzahl_test)\u001b[0m\n\u001b[0;32m     32\u001b[0m                 \u001b[1;32melse\u001b[0m\u001b[1;33m:\u001b[0m\u001b[1;33m\u001b[0m\u001b[1;33m\u001b[0m\u001b[0m\n\u001b[0;32m     33\u001b[0m                     raise TypeError(\n\u001b[1;32m---> 34\u001b[1;33m                         'Erstes Argument muss Primzahl oder Primpotenz sein')\n\u001b[0m\u001b[0;32m     35\u001b[0m         \u001b[1;32melif\u001b[0m \u001b[1;32mnot\u001b[0m \u001b[0mprimzahl_test\u001b[0m\u001b[1;33m(\u001b[0m\u001b[0mp\u001b[0m\u001b[1;33m)\u001b[0m\u001b[1;33m:\u001b[0m\u001b[1;33m\u001b[0m\u001b[1;33m\u001b[0m\u001b[0m\n\u001b[0;32m     36\u001b[0m             \u001b[1;32mraise\u001b[0m \u001b[0mTypeError\u001b[0m\u001b[1;33m(\u001b[0m\u001b[1;34m'p ist keine Primzahl'\u001b[0m\u001b[1;33m)\u001b[0m\u001b[1;33m\u001b[0m\u001b[1;33m\u001b[0m\u001b[0m\n",
      "\u001b[1;31mTypeError\u001b[0m: Erstes Argument muss Primzahl oder Primpotenz sein"
     ]
    }
   ],
   "source": [
    "K = endlicher_koerper(12)\n",
    "K.ist_endlicher_koerper()"
   ]
  },
  {
   "cell_type": "code",
   "execution_count": 11,
   "metadata": {},
   "outputs": [],
   "source": [
    "b = GanzzahlRestklassenringElement(1,F)\n",
    "\n"
   ]
  },
  {
   "cell_type": "code",
   "execution_count": null,
   "metadata": {},
   "outputs": [],
   "source": []
  }
 ],
 "metadata": {
  "kernelspec": {
   "display_name": "Python 3",
   "language": "python",
   "name": "python3"
  },
  "language_info": {
   "codemirror_mode": {
    "name": "ipython",
    "version": 3
   },
   "file_extension": ".py",
   "mimetype": "text/x-python",
   "name": "python",
   "nbconvert_exporter": "python",
   "pygments_lexer": "ipython3",
   "version": "3.6.8"
  }
 },
 "nbformat": 4,
 "nbformat_minor": 2
}

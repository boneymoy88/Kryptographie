{
 "cells": [
  {
   "cell_type": "code",
   "execution_count": 6,
   "metadata": {},
   "outputs": [
    {
     "name": "stdout",
     "output_type": "stream",
     "text": [
      "False\n",
      "False\n",
      "False\n",
      "True\n",
      "True\n",
      "False\n",
      "True\n"
     ]
    }
   ],
   "source": [
    "import project_path\n",
    "\n",
    "from Tocas import Z, Polynomring, PolynomringElement, GanzzahlRestklassenring\n",
    "\n",
    "import Extension.ganzzahl_extension\n",
    "import Extension.polynomring_extension\n",
    "import Extension.ganzzahlrestklassenring_extension\n",
    "from Extension.Bruchzahlring import Q\n",
    "from Extension.PolynomRestklassenring import PolynomRestklassenring\n",
    "from Extension.endlicher_koerper import EndlicherKoerper\n",
    "\n",
    "KX = Polynomring(Z)\n",
    "R = GanzzahlRestklassenring(3)\n",
    "F = GanzzahlRestklassenring(7)\n",
    "\n",
    "f = PolynomringElement([1, 0, 1], KX)\n",
    "RX_f = PolynomRestklassenring(f)\n",
    "\n",
    "FX = Polynomring(F)\n",
    "g = PolynomringElement([1, 0, 1], FX)\n",
    "FX_g = PolynomRestklassenring(g)\n",
    "\n",
    "print(Z.ist_endlicher_koerper())\n",
    "print(KX.ist_endlicher_koerper())\n",
    "print(Q.ist_endlicher_koerper())\n",
    "print(R.ist_endlicher_koerper())\n",
    "print(F.ist_endlicher_koerper())\n",
    "print(RX_f.ist_endlicher_koerper())\n",
    "print(FX_g.ist_endlicher_koerper())"
   ]
  },
  {
   "cell_type": "code",
   "execution_count": 7,
   "metadata": {},
   "outputs": [
    {
     "name": "stdout",
     "output_type": "stream",
     "text": [
      "Z/3Z[x]/([2] + [1]*x + [1]*x^4)\n",
      "Z/3Z[x]/([2] + [1]*x + [1]*x^4)\n",
      "Z/3Z[x]/([2] + [1]*x + [1]*x^2)\n"
     ]
    }
   ],
   "source": [
    "print(EndlicherKoerper(3, 4))\n",
    "print(EndlicherKoerper(81))\n",
    "print(EndlicherKoerper(R,2))"
   ]
  }
 ],
 "metadata": {
  "kernelspec": {
   "display_name": "Python 3",
   "language": "python",
   "name": "python3"
  },
  "language_info": {
   "codemirror_mode": {
    "name": "ipython",
    "version": 3
   },
   "file_extension": ".py",
   "mimetype": "text/x-python",
   "name": "python",
   "nbconvert_exporter": "python",
   "pygments_lexer": "ipython3",
   "version": "3.7.3"
  }
 },
 "nbformat": 4,
 "nbformat_minor": 2
}
